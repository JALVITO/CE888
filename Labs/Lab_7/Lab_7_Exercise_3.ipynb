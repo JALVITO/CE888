{
  "nbformat": 4,
  "nbformat_minor": 0,
  "metadata": {
    "kernelspec": {
      "display_name": "Python 3",
      "language": "python",
      "name": "python3"
    },
    "language_info": {
      "codemirror_mode": {
        "name": "ipython",
        "version": 3
      },
      "file_extension": ".py",
      "mimetype": "text/x-python",
      "name": "python",
      "nbconvert_exporter": "python",
      "pygments_lexer": "ipython3",
      "version": "3.6.5"
    },
    "colab": {
      "name": "Lab_7_Exercise_3.ipynb",
      "provenance": [],
      "collapsed_sections": [],
      "include_colab_link": true
    },
    "accelerator": "GPU"
  },
  "cells": [
    {
      "cell_type": "markdown",
      "metadata": {
        "id": "view-in-github",
        "colab_type": "text"
      },
      "source": [
        "<a href=\"https://colab.research.google.com/github/JALVITO/CE888/blob/master/Labs/Lab_7/Lab_7_Exercise_3.ipynb\" target=\"_parent\"><img src=\"https://colab.research.google.com/assets/colab-badge.svg\" alt=\"Open In Colab\"/></a>"
      ]
    },
    {
      "cell_type": "code",
      "metadata": {
        "id": "2OEAdhW0qjg9",
        "colab": {
          "base_uri": "https://localhost:8080/",
          "height": 35
        },
        "outputId": "90db1c8e-f1fc-45d6-da1d-6068f24ef177"
      },
      "source": [
        "import keras\n",
        "keras.__version__"
      ],
      "execution_count": 1,
      "outputs": [
        {
          "output_type": "execute_result",
          "data": {
            "application/vnd.google.colaboratory.intrinsic+json": {
              "type": "string"
            },
            "text/plain": [
              "'2.4.3'"
            ]
          },
          "metadata": {
            "tags": []
          },
          "execution_count": 1
        }
      ]
    },
    {
      "cell_type": "code",
      "metadata": {
        "id": "TYsNtFxgqjhC",
        "colab": {
          "base_uri": "https://localhost:8080/"
        },
        "outputId": "6cfc4084-85a0-4cea-89c9-6c4a009b1370"
      },
      "source": [
        "from keras.preprocessing.text import Tokenizer\n",
        "samples = ['The cat sat on the mat.', 'The dog ate my homework.']\n",
        "\n",
        "# We create a tokenizer, configured to only take into account the top-1000 most common words\n",
        "tokenizer = Tokenizer(num_words=1000)\n",
        "\n",
        "# This builds the word index\n",
        "tokenizer.fit_on_texts(samples)\n",
        "\n",
        "# This turns strings into lists of integer indices.\n",
        "sequences = tokenizer.texts_to_sequences(samples)\n",
        "\n",
        "# You could also directly get the one-hot binary representations.\n",
        "# Note that other vectorization modes than one-hot encoding are supported!\n",
        "one_hot_results = tokenizer.texts_to_matrix(samples, mode='binary')\n",
        "\n",
        "# This is how you can recover the word index that was computed\n",
        "word_index = tokenizer.word_index\n",
        "print('Found %s unique tokens.' % len(word_index))"
      ],
      "execution_count": 1,
      "outputs": [
        {
          "output_type": "stream",
          "text": [
            "Found 9 unique tokens.\n"
          ],
          "name": "stdout"
        }
      ]
    },
    {
      "cell_type": "code",
      "metadata": {
        "id": "_1bFuvqKqjhF",
        "colab": {
          "base_uri": "https://localhost:8080/"
        },
        "outputId": "f78adec7-1679-4a3f-f46f-69683a50741d"
      },
      "source": [
        "one_hot_results"
      ],
      "execution_count": 2,
      "outputs": [
        {
          "output_type": "execute_result",
          "data": {
            "text/plain": [
              "array([[0., 1., 1., ..., 0., 0., 0.],\n",
              "       [0., 1., 0., ..., 0., 0., 0.]])"
            ]
          },
          "metadata": {
            "tags": []
          },
          "execution_count": 2
        }
      ]
    },
    {
      "cell_type": "markdown",
      "metadata": {
        "id": "95o1mdJkqjhI"
      },
      "source": [
        "Using word-embeddings "
      ]
    },
    {
      "cell_type": "code",
      "metadata": {
        "id": "DSAIqfdoqjhJ",
        "colab": {
          "base_uri": "https://localhost:8080/"
        },
        "outputId": "565b1ecc-fae3-44da-92f0-f4296425f5ea"
      },
      "source": [
        "from keras.datasets import imdb\n",
        "from keras.preprocessing import sequence\n",
        "\n",
        "max_features = 10000\n",
        "maxlen = 500\n",
        "batch_size = 32\n",
        "print('Loading data...')\n",
        "(input_train, y_train), (input_test, y_test) = imdb.load_data(num_words=max_features)\n",
        "print(len(input_train), 'train sequences')\n",
        "print(len(input_test), 'test sequences')\n",
        "print('Pad sequences (samples x time)')\n",
        "input_train = sequence.pad_sequences(input_train, maxlen=maxlen)\n",
        "input_test = sequence.pad_sequences(input_test, maxlen=maxlen)\n",
        "print('input_train shape:', input_train.shape)\n",
        "print('input_test shape:', input_test.shape)"
      ],
      "execution_count": 3,
      "outputs": [
        {
          "output_type": "stream",
          "text": [
            "Loading data...\n",
            "Downloading data from https://storage.googleapis.com/tensorflow/tf-keras-datasets/imdb.npz\n",
            "17465344/17464789 [==============================] - 0s 0us/step\n"
          ],
          "name": "stdout"
        },
        {
          "output_type": "stream",
          "text": [
            "<string>:6: VisibleDeprecationWarning: Creating an ndarray from ragged nested sequences (which is a list-or-tuple of lists-or-tuples-or ndarrays with different lengths or shapes) is deprecated. If you meant to do this, you must specify 'dtype=object' when creating the ndarray\n",
            "/usr/local/lib/python3.7/dist-packages/tensorflow/python/keras/datasets/imdb.py:159: VisibleDeprecationWarning: Creating an ndarray from ragged nested sequences (which is a list-or-tuple of lists-or-tuples-or ndarrays with different lengths or shapes) is deprecated. If you meant to do this, you must specify 'dtype=object' when creating the ndarray\n",
            "  x_train, y_train = np.array(xs[:idx]), np.array(labels[:idx])\n",
            "/usr/local/lib/python3.7/dist-packages/tensorflow/python/keras/datasets/imdb.py:160: VisibleDeprecationWarning: Creating an ndarray from ragged nested sequences (which is a list-or-tuple of lists-or-tuples-or ndarrays with different lengths or shapes) is deprecated. If you meant to do this, you must specify 'dtype=object' when creating the ndarray\n",
            "  x_test, y_test = np.array(xs[idx:]), np.array(labels[idx:])\n"
          ],
          "name": "stderr"
        },
        {
          "output_type": "stream",
          "text": [
            "25000 train sequences\n",
            "25000 test sequences\n",
            "Pad sequences (samples x time)\n",
            "input_train shape: (25000, 500)\n",
            "input_test shape: (25000, 500)\n"
          ],
          "name": "stdout"
        }
      ]
    },
    {
      "cell_type": "markdown",
      "metadata": {
        "id": "5ssh97qDqjhM"
      },
      "source": [
        "### Training the model with Embedding and SimpleRNN layers"
      ]
    },
    {
      "cell_type": "code",
      "metadata": {
        "id": "t_lIlBilqjhN",
        "colab": {
          "base_uri": "https://localhost:8080/"
        },
        "outputId": "56cd496e-f12f-4f54-82b3-c91c6d3d3296"
      },
      "source": [
        "from keras.layers import Dense\n",
        "from keras.layers import Embedding, SimpleRNN\n",
        "from keras.models import Sequential\n",
        "\n",
        "model = Sequential()\n",
        "model.add(Embedding(max_features, 32))\n",
        "model.add(SimpleRNN(32))\n",
        "model.add(Dense(1, activation='sigmoid'))\n",
        "model.summary()\n",
        "model.compile(optimizer='rmsprop', loss='binary_crossentropy', metrics=['acc'])\n",
        "history = model.fit(input_train, y_train, \n",
        "                    epochs=10,\n",
        "                    batch_size=128,\n",
        "                    validation_split=0.2)\n"
      ],
      "execution_count": 5,
      "outputs": [
        {
          "output_type": "stream",
          "text": [
            "Model: \"sequential\"\n",
            "_________________________________________________________________\n",
            "Layer (type)                 Output Shape              Param #   \n",
            "=================================================================\n",
            "embedding (Embedding)        (None, None, 32)          320000    \n",
            "_________________________________________________________________\n",
            "simple_rnn (SimpleRNN)       (None, 32)                2080      \n",
            "_________________________________________________________________\n",
            "dense (Dense)                (None, 1)                 33        \n",
            "=================================================================\n",
            "Total params: 322,113\n",
            "Trainable params: 322,113\n",
            "Non-trainable params: 0\n",
            "_________________________________________________________________\n",
            "Epoch 1/10\n",
            "157/157 [==============================] - 61s 367ms/step - loss: 0.6568 - acc: 0.5931 - val_loss: 0.4958 - val_acc: 0.7626\n",
            "Epoch 2/10\n",
            "157/157 [==============================] - 59s 374ms/step - loss: 0.4158 - acc: 0.8300 - val_loss: 0.3870 - val_acc: 0.8344\n",
            "Epoch 3/10\n",
            "157/157 [==============================] - 56s 358ms/step - loss: 0.2789 - acc: 0.8918 - val_loss: 0.3633 - val_acc: 0.8484\n",
            "Epoch 4/10\n",
            "157/157 [==============================] - 58s 368ms/step - loss: 0.2042 - acc: 0.9258 - val_loss: 0.4081 - val_acc: 0.8344\n",
            "Epoch 5/10\n",
            "157/157 [==============================] - 56s 354ms/step - loss: 0.1528 - acc: 0.9490 - val_loss: 0.4086 - val_acc: 0.8510\n",
            "Epoch 6/10\n",
            "157/157 [==============================] - 56s 356ms/step - loss: 0.1049 - acc: 0.9630 - val_loss: 0.4108 - val_acc: 0.8566\n",
            "Epoch 7/10\n",
            "157/157 [==============================] - 56s 360ms/step - loss: 0.0675 - acc: 0.9786 - val_loss: 0.7060 - val_acc: 0.7476\n",
            "Epoch 8/10\n",
            "157/157 [==============================] - 57s 361ms/step - loss: 0.0497 - acc: 0.9846 - val_loss: 0.5385 - val_acc: 0.8354\n",
            "Epoch 9/10\n",
            "157/157 [==============================] - 56s 358ms/step - loss: 0.0303 - acc: 0.9904 - val_loss: 0.6500 - val_acc: 0.7886\n",
            "Epoch 10/10\n",
            "157/157 [==============================] - 57s 361ms/step - loss: 0.0240 - acc: 0.9923 - val_loss: 0.5902 - val_acc: 0.8340\n"
          ],
          "name": "stdout"
        }
      ]
    },
    {
      "cell_type": "code",
      "metadata": {
        "id": "w03gEZ2RqjhQ",
        "colab": {
          "base_uri": "https://localhost:8080/",
          "height": 545
        },
        "outputId": "512166ae-b3a8-4de8-f540-64c330d7cb71"
      },
      "source": [
        "import matplotlib.pyplot as plt\n",
        "\n",
        "acc = history.history['acc']\n",
        "val_acc = history.history['val_acc']\n",
        "loss = history.history['loss']\n",
        "val_loss = history.history['val_loss']\n",
        "\n",
        "epochs = range(1, len(acc) + 1)\n",
        "\n",
        "plt.plot(epochs, acc, 'bo', label='Training acc')\n",
        "plt.plot(epochs, val_acc, 'b', label='Validation acc')\n",
        "plt.title('Training and validation accuracy')\n",
        "plt.legend()\n",
        "\n",
        "plt.figure()\n",
        "\n",
        "plt.plot(epochs, loss, 'bo', label='Training loss')\n",
        "plt.plot(epochs, val_loss, 'b', label='Validation loss')\n",
        "plt.title('Training and validation loss')\n",
        "plt.legend()\n",
        "\n",
        "plt.show()"
      ],
      "execution_count": 6,
      "outputs": [
        {
          "output_type": "display_data",
          "data": {
            "image/png": "[encoded data removed]",
            "text/plain": [
              "<Figure size 432x288 with 1 Axes>"
            ]
          },
          "metadata": {
            "tags": [],
            "needs_background": "light"
          }
        },
        {
          "output_type": "display_data",
          "data": {
            "image/png": "[encoded data removed]",
            "text/plain": [
              "<Figure size 432x288 with 1 Axes>"
            ]
          },
          "metadata": {
            "tags": [],
            "needs_background": "light"
          }
        }
      ]
    },
    {
      "cell_type": "markdown",
      "metadata": {
        "id": "mz8CfgKcqjhT"
      },
      "source": [
        "### Training the model with Embedding and SimpleRNN layers"
      ]
    },
    {
      "cell_type": "code",
      "metadata": {
        "id": "U_wjH-KGqjhU",
        "colab": {
          "base_uri": "https://localhost:8080/"
        },
        "outputId": "bc055537-eb9b-46b2-b5dc-a0ab0e8eb8f0"
      },
      "source": [
        "from keras.layers import LSTM\n",
        "\n",
        "model = Sequential()\n",
        "model.add(Embedding(max_features, 32))\n",
        "model.add(LSTM(32))\n",
        "model.add(Dense(1, activation='sigmoid'))\n",
        "model.compile(optimizer='rmsprop',\n",
        "loss='binary_crossentropy',\n",
        "metrics=['acc'])\n",
        "history = model.fit(input_train, y_train,\n",
        "                    epochs=10,\n",
        "                    batch_size=128,\n",
        "                    validation_split=0.2)"
      ],
      "execution_count": 7,
      "outputs": [
        {
          "output_type": "stream",
          "text": [
            "Epoch 1/10\n",
            "157/157 [==============================] - 34s 30ms/step - loss: 0.5963 - acc: 0.6781 - val_loss: 0.3750 - val_acc: 0.8450\n",
            "Epoch 2/10\n",
            "157/157 [==============================] - 4s 28ms/step - loss: 0.2966 - acc: 0.8881 - val_loss: 0.2866 - val_acc: 0.8854\n",
            "Epoch 3/10\n",
            "157/157 [==============================] - 4s 27ms/step - loss: 0.2322 - acc: 0.9131 - val_loss: 0.4293 - val_acc: 0.8390\n",
            "Epoch 4/10\n",
            "157/157 [==============================] - 5s 29ms/step - loss: 0.1968 - acc: 0.9298 - val_loss: 0.3081 - val_acc: 0.8858\n",
            "Epoch 5/10\n",
            "157/157 [==============================] - 4s 28ms/step - loss: 0.1684 - acc: 0.9399 - val_loss: 0.3094 - val_acc: 0.8822\n",
            "Epoch 6/10\n",
            "157/157 [==============================] - 4s 27ms/step - loss: 0.1578 - acc: 0.9437 - val_loss: 0.3115 - val_acc: 0.8848\n",
            "Epoch 7/10\n",
            "157/157 [==============================] - 4s 27ms/step - loss: 0.1343 - acc: 0.9531 - val_loss: 0.3731 - val_acc: 0.8674\n",
            "Epoch 8/10\n",
            "157/157 [==============================] - 4s 28ms/step - loss: 0.1200 - acc: 0.9604 - val_loss: 0.4803 - val_acc: 0.8576\n",
            "Epoch 9/10\n",
            "157/157 [==============================] - 4s 27ms/step - loss: 0.1103 - acc: 0.9627 - val_loss: 0.4090 - val_acc: 0.8800\n",
            "Epoch 10/10\n",
            "157/157 [==============================] - 4s 28ms/step - loss: 0.1101 - acc: 0.9629 - val_loss: 0.3760 - val_acc: 0.8858\n"
          ],
          "name": "stdout"
        }
      ]
    },
    {
      "cell_type": "code",
      "metadata": {
        "id": "HU4eGq-DqjhX",
        "colab": {
          "base_uri": "https://localhost:8080/",
          "height": 545
        },
        "outputId": "eaf20275-42f8-439f-b243-9eaeb9caecf1"
      },
      "source": [
        "import matplotlib.pyplot as plt\n",
        "\n",
        "acc = history.history['acc']\n",
        "val_acc = history.history['val_acc']\n",
        "loss = history.history['loss']\n",
        "val_loss = history.history['val_loss']\n",
        "\n",
        "epochs = range(1, len(acc) + 1)\n",
        "\n",
        "plt.plot(epochs, acc, 'bo', label='Training acc')\n",
        "plt.plot(epochs, val_acc, 'b', label='Validation acc')\n",
        "plt.title('Training and validation accuracy')\n",
        "plt.legend()\n",
        "\n",
        "plt.figure()\n",
        "\n",
        "plt.plot(epochs, loss, 'bo', label='Training loss')\n",
        "plt.plot(epochs, val_loss, 'b', label='Validation loss')\n",
        "plt.title('Training and validation loss')\n",
        "plt.legend()\n",
        "\n",
        "plt.show()"
      ],
      "execution_count": 8,
      "outputs": [
        {
          "output_type": "display_data",
          "data": {
            "image/png": "[encoded data removed]",
            "text/plain": [
              "<Figure size 432x288 with 1 Axes>"
            ]
          },
          "metadata": {
            "tags": [],
            "needs_background": "light"
          }
        },
        {
          "output_type": "display_data",
          "data": {
            "image/png": "[encoded data removed]",
            "text/plain": [
              "<Figure size 432x288 with 1 Axes>"
            ]
          },
          "metadata": {
            "tags": [],
            "needs_background": "light"
          }
        }
      ]
    },
    {
      "cell_type": "markdown",
      "metadata": {
        "id": "r69U5tFUZ82R"
      },
      "source": [
        "### Task 3: \n",
        "\n",
        "Please consider this Time Series Prediction with LSTM Recurrent Neural Networks. We can see that the LSTM model in the code below has an average error of about 23 passengers (in thousands) on the training dataset, and about 53 passengers (in thousands) on the test dataset. Not that bad. Can you please improve the performance?\n",
        "\n",
        "#### Dataset Discription\n",
        "The problem we are going to look at in this post is the International Airline Passengers prediction problem.\n",
        "This is a problem where, given a year and a month, the task is to predict the number of international airline passengers in units of 1,000. The data ranges from January 1949 to December 1960, or 12 years, with 144 observations.\n",
        "\n"
      ]
    },
    {
      "cell_type": "code",
      "metadata": {
        "colab": {
          "base_uri": "https://localhost:8080/",
          "height": 1000
        },
        "id": "w1vSusoyatCW",
        "outputId": "19ce9f4f-0538-4858-ae09-d11cb2d7204c"
      },
      "source": [
        "import numpy\n",
        "import math\n",
        "import matplotlib.pyplot as plt\n",
        "from pandas import read_csv\n",
        "from keras.models import Sequential\n",
        "from keras.layers import Dense\n",
        "from keras.layers import LSTM\n",
        "from sklearn.preprocessing import MinMaxScaler\n",
        "from sklearn.metrics import mean_squared_error\n",
        "# convert an array of values into a dataset matrix\n",
        "def create_dataset(dataset, look_back=1):\n",
        "\tdataX, dataY = [], []\n",
        "\tfor i in range(len(dataset)-look_back-1):\n",
        "\t\ta = dataset[i:(i+look_back), 0]\n",
        "\t\tdataX.append(a)\n",
        "\t\tdataY.append(dataset[i + look_back, 0])\n",
        "\treturn numpy.array(dataX), numpy.array(dataY)\n",
        "# fix random seed for reproducibility\n",
        "numpy.random.seed(7)\n",
        "# load the dataset\n",
        "dataframe = read_csv('https://raw.githubusercontent.com/jbrownlee/Datasets/master/airline-passengers.csv', usecols=[1], engine='python')\n",
        "dataset = dataframe.values\n",
        "dataset = dataset.astype('float32')\n",
        "# normalize the dataset\n",
        "scaler = MinMaxScaler(feature_range=(0, 1))\n",
        "dataset = scaler.fit_transform(dataset)\n",
        "# split into train and test sets\n",
        "train_size = int(len(dataset) * 0.67)\n",
        "test_size = len(dataset) - train_size\n",
        "train, test = dataset[0:train_size,:], dataset[train_size:len(dataset),:]\n",
        "# reshape into X=t and Y=t+1\n",
        "look_back = 1\n",
        "trainX, trainY = create_dataset(train, look_back)\n",
        "testX, testY = create_dataset(test, look_back)\n",
        "# reshape input to be [samples, time steps, features]\n",
        "trainX = numpy.reshape(trainX, (trainX.shape[0], 1, trainX.shape[1]))\n",
        "testX = numpy.reshape(testX, (testX.shape[0], 1, testX.shape[1]))\n",
        "# create and fit the LSTM network\n",
        "model = Sequential()\n",
        "model.add(LSTM(4, input_shape=(1, look_back)))\n",
        "model.add(Dense(1))\n",
        "model.compile(loss='mean_squared_error', optimizer='adam')\n",
        "model.fit(trainX, trainY, epochs=100, batch_size=1, verbose=2)\n",
        "# make predictions\n",
        "trainPredict = model.predict(trainX)\n",
        "testPredict = model.predict(testX)\n",
        "# invert predictions\n",
        "trainPredict = scaler.inverse_transform(trainPredict)\n",
        "trainY = scaler.inverse_transform([trainY])\n",
        "testPredict = scaler.inverse_transform(testPredict)\n",
        "testY = scaler.inverse_transform([testY])\n",
        "# calculate root mean squared error\n",
        "trainScore = math.sqrt(mean_squared_error(trainY[0], trainPredict[:,0]))\n",
        "print('Train Score: %.2f RMSE' % (trainScore))\n",
        "testScore = math.sqrt(mean_squared_error(testY[0], testPredict[:,0]))\n",
        "print('Test Score: %.2f RMSE' % (testScore))\n",
        "# shift train predictions for plotting\n",
        "trainPredictPlot = numpy.empty_like(dataset)\n",
        "trainPredictPlot[:, :] = numpy.nan\n",
        "trainPredictPlot[look_back:len(trainPredict)+look_back, :] = trainPredict\n",
        "# shift test predictions for plotting\n",
        "testPredictPlot = numpy.empty_like(dataset)\n",
        "testPredictPlot[:, :] = numpy.nan\n",
        "testPredictPlot[len(trainPredict)+(look_back*2)+1:len(dataset)-1, :] = testPredict\n",
        "# plot baseline and predictions\n",
        "plt.plot(scaler.inverse_transform(dataset))\n",
        "plt.plot(trainPredictPlot)\n",
        "plt.plot(testPredictPlot)\n",
        "plt.show()"
      ],
      "execution_count": 9,
      "outputs": [
        {
          "output_type": "stream",
          "text": [
            "Epoch 1/100\n",
            "94/94 - 1s - loss: 0.0338\n",
            "Epoch 2/100\n",
            "94/94 - 0s - loss: 0.0152\n",
            "Epoch 3/100\n",
            "94/94 - 0s - loss: 0.0119\n",
            "Epoch 4/100\n",
            "94/94 - 0s - loss: 0.0109\n",
            "Epoch 5/100\n",
            "94/94 - 0s - loss: 0.0101\n",
            "Epoch 6/100\n",
            "94/94 - 0s - loss: 0.0091\n",
            "Epoch 7/100\n",
            "94/94 - 0s - loss: 0.0082\n",
            "Epoch 8/100\n",
            "94/94 - 0s - loss: 0.0073\n",
            "Epoch 9/100\n",
            "94/94 - 0s - loss: 0.0065\n",
            "Epoch 10/100\n",
            "94/94 - 0s - loss: 0.0056\n",
            "Epoch 11/100\n",
            "94/94 - 0s - loss: 0.0050\n",
            "Epoch 12/100\n",
            "94/94 - 0s - loss: 0.0044\n",
            "Epoch 13/100\n",
            "94/94 - 0s - loss: 0.0037\n",
            "Epoch 14/100\n",
            "94/94 - 0s - loss: 0.0033\n",
            "Epoch 15/100\n",
            "94/94 - 0s - loss: 0.0029\n",
            "Epoch 16/100\n",
            "94/94 - 0s - loss: 0.0026\n",
            "Epoch 17/100\n",
            "94/94 - 0s - loss: 0.0024\n",
            "Epoch 18/100\n",
            "94/94 - 0s - loss: 0.0023\n",
            "Epoch 19/100\n",
            "94/94 - 0s - loss: 0.0022\n",
            "Epoch 20/100\n",
            "94/94 - 0s - loss: 0.0021\n",
            "Epoch 21/100\n",
            "94/94 - 0s - loss: 0.0022\n",
            "Epoch 22/100\n",
            "94/94 - 0s - loss: 0.0020\n",
            "Epoch 23/100\n",
            "94/94 - 0s - loss: 0.0021\n",
            "Epoch 24/100\n",
            "94/94 - 0s - loss: 0.0020\n",
            "Epoch 25/100\n",
            "94/94 - 0s - loss: 0.0021\n",
            "Epoch 26/100\n",
            "94/94 - 0s - loss: 0.0020\n",
            "Epoch 27/100\n",
            "94/94 - 0s - loss: 0.0021\n",
            "Epoch 28/100\n",
            "94/94 - 0s - loss: 0.0020\n",
            "Epoch 29/100\n",
            "94/94 - 0s - loss: 0.0020\n",
            "Epoch 30/100\n",
            "94/94 - 0s - loss: 0.0020\n",
            "Epoch 31/100\n",
            "94/94 - 0s - loss: 0.0020\n",
            "Epoch 32/100\n",
            "94/94 - 0s - loss: 0.0020\n",
            "Epoch 33/100\n",
            "94/94 - 0s - loss: 0.0020\n",
            "Epoch 34/100\n",
            "94/94 - 0s - loss: 0.0021\n",
            "Epoch 35/100\n",
            "94/94 - 0s - loss: 0.0020\n",
            "Epoch 36/100\n",
            "94/94 - 0s - loss: 0.0019\n",
            "Epoch 37/100\n",
            "94/94 - 0s - loss: 0.0021\n",
            "Epoch 38/100\n",
            "94/94 - 0s - loss: 0.0020\n",
            "Epoch 39/100\n",
            "94/94 - 0s - loss: 0.0020\n",
            "Epoch 40/100\n",
            "94/94 - 0s - loss: 0.0020\n",
            "Epoch 41/100\n",
            "94/94 - 0s - loss: 0.0021\n",
            "Epoch 42/100\n",
            "94/94 - 0s - loss: 0.0020\n",
            "Epoch 43/100\n",
            "94/94 - 0s - loss: 0.0021\n",
            "Epoch 44/100\n",
            "94/94 - 0s - loss: 0.0020\n",
            "Epoch 45/100\n",
            "94/94 - 0s - loss: 0.0020\n",
            "Epoch 46/100\n",
            "94/94 - 0s - loss: 0.0020\n",
            "Epoch 47/100\n",
            "94/94 - 0s - loss: 0.0020\n",
            "Epoch 48/100\n",
            "94/94 - 0s - loss: 0.0020\n",
            "Epoch 49/100\n",
            "94/94 - 0s - loss: 0.0020\n",
            "Epoch 50/100\n",
            "94/94 - 0s - loss: 0.0020\n",
            "Epoch 51/100\n",
            "94/94 - 0s - loss: 0.0020\n",
            "Epoch 52/100\n",
            "94/94 - 0s - loss: 0.0020\n",
            "Epoch 53/100\n",
            "94/94 - 0s - loss: 0.0021\n",
            "Epoch 54/100\n",
            "94/94 - 0s - loss: 0.0021\n",
            "Epoch 55/100\n",
            "94/94 - 0s - loss: 0.0020\n",
            "Epoch 56/100\n",
            "94/94 - 0s - loss: 0.0020\n",
            "Epoch 57/100\n",
            "94/94 - 0s - loss: 0.0020\n",
            "Epoch 58/100\n",
            "94/94 - 0s - loss: 0.0020\n",
            "Epoch 59/100\n",
            "94/94 - 0s - loss: 0.0020\n",
            "Epoch 60/100\n",
            "94/94 - 0s - loss: 0.0021\n",
            "Epoch 61/100\n",
            "94/94 - 0s - loss: 0.0021\n",
            "Epoch 62/100\n",
            "94/94 - 0s - loss: 0.0020\n",
            "Epoch 63/100\n",
            "94/94 - 0s - loss: 0.0020\n",
            "Epoch 64/100\n",
            "94/94 - 0s - loss: 0.0021\n",
            "Epoch 65/100\n",
            "94/94 - 0s - loss: 0.0021\n",
            "Epoch 66/100\n",
            "94/94 - 0s - loss: 0.0020\n",
            "Epoch 67/100\n",
            "94/94 - 0s - loss: 0.0020\n",
            "Epoch 68/100\n",
            "94/94 - 0s - loss: 0.0020\n",
            "Epoch 69/100\n",
            "94/94 - 0s - loss: 0.0020\n",
            "Epoch 70/100\n",
            "94/94 - 0s - loss: 0.0020\n",
            "Epoch 71/100\n",
            "94/94 - 0s - loss: 0.0020\n",
            "Epoch 72/100\n",
            "94/94 - 0s - loss: 0.0020\n",
            "Epoch 73/100\n",
            "94/94 - 0s - loss: 0.0020\n",
            "Epoch 74/100\n",
            "94/94 - 0s - loss: 0.0020\n",
            "Epoch 75/100\n",
            "94/94 - 0s - loss: 0.0020\n",
            "Epoch 76/100\n",
            "94/94 - 0s - loss: 0.0021\n",
            "Epoch 77/100\n",
            "94/94 - 0s - loss: 0.0020\n",
            "Epoch 78/100\n",
            "94/94 - 0s - loss: 0.0020\n",
            "Epoch 79/100\n",
            "94/94 - 0s - loss: 0.0020\n",
            "Epoch 80/100\n",
            "94/94 - 0s - loss: 0.0020\n",
            "Epoch 81/100\n",
            "94/94 - 0s - loss: 0.0020\n",
            "Epoch 82/100\n",
            "94/94 - 0s - loss: 0.0020\n",
            "Epoch 83/100\n",
            "94/94 - 0s - loss: 0.0021\n",
            "Epoch 84/100\n",
            "94/94 - 0s - loss: 0.0020\n",
            "Epoch 85/100\n",
            "94/94 - 0s - loss: 0.0022\n",
            "Epoch 86/100\n",
            "94/94 - 0s - loss: 0.0020\n",
            "Epoch 87/100\n",
            "94/94 - 0s - loss: 0.0020\n",
            "Epoch 88/100\n",
            "94/94 - 0s - loss: 0.0020\n",
            "Epoch 89/100\n",
            "94/94 - 0s - loss: 0.0020\n",
            "Epoch 90/100\n",
            "94/94 - 0s - loss: 0.0020\n",
            "Epoch 91/100\n",
            "94/94 - 0s - loss: 0.0021\n",
            "Epoch 92/100\n",
            "94/94 - 0s - loss: 0.0021\n",
            "Epoch 93/100\n",
            "94/94 - 0s - loss: 0.0020\n",
            "Epoch 94/100\n",
            "94/94 - 0s - loss: 0.0020\n",
            "Epoch 95/100\n",
            "94/94 - 0s - loss: 0.0020\n",
            "Epoch 96/100\n",
            "94/94 - 0s - loss: 0.0020\n",
            "Epoch 97/100\n",
            "94/94 - 0s - loss: 0.0020\n",
            "Epoch 98/100\n",
            "94/94 - 0s - loss: 0.0020\n",
            "Epoch 99/100\n",
            "94/94 - 0s - loss: 0.0021\n",
            "Epoch 100/100\n",
            "94/94 - 0s - loss: 0.0020\n",
            "Train Score: 22.96 RMSE\n",
            "Test Score: 47.81 RMSE\n"
          ],
          "name": "stdout"
        },
        {
          "output_type": "display_data",
          "data": {
            "image/png": "[encoded data removed]",
            "text/plain": [
              "<Figure size 432x288 with 1 Axes>"
            ]
          },
          "metadata": {
            "tags": [],
            "needs_background": "light"
          }
        }
      ]
    },
    {
      "cell_type": "code",
      "metadata": {
        "colab": {
          "base_uri": "https://localhost:8080/",
          "height": 1000
        },
        "id": "uZJ-E4kVATka",
        "outputId": "eebc0e04-998b-449b-bb66-080243ebab47"
      },
      "source": [
        "from keras.layers import Dropout\n",
        "\n",
        "# load the dataset\n",
        "dataframe = read_csv('https://raw.githubusercontent.com/jbrownlee/Datasets/master/airline-passengers.csv', usecols=[1], engine='python')\n",
        "dataset = dataframe.values\n",
        "dataset = dataset.astype('float32')\n",
        "\n",
        "# normalize the dataset\n",
        "scaler = MinMaxScaler(feature_range=(0, 1))\n",
        "dataset = scaler.fit_transform(dataset)\n",
        "\n",
        "# split into train and test sets\n",
        "train_size = int(len(dataset) * 0.67)\n",
        "test_size = len(dataset) - train_size\n",
        "train, test = dataset[0:train_size,:], dataset[train_size:len(dataset),:]\n",
        "\n",
        "# reshape into X=t and Y=t+1\n",
        "look_back = 1\n",
        "trainX, trainY = create_dataset(train, look_back)\n",
        "testX, testY = create_dataset(test, look_back)\n",
        "\n",
        "# reshape input to be [samples, time steps, features]\n",
        "trainX = numpy.reshape(trainX, (trainX.shape[0], 1, trainX.shape[1]))\n",
        "testX = numpy.reshape(testX, (testX.shape[0], 1, testX.shape[1]))\n",
        "\n",
        "# create and fit the LSTM network\n",
        "model = Sequential()\n",
        "model.add(LSTM(3, input_shape=(1, look_back)))\n",
        "model.add(Dense(1))\n",
        "model.compile(loss='mean_squared_error', optimizer='rmsprop')\n",
        "model.fit(trainX, trainY, epochs=100, batch_size=5, verbose=2)\n",
        "\n",
        "# make predictions\n",
        "trainPredict = model.predict(trainX)\n",
        "testPredict = model.predict(testX)\n",
        "\n",
        "# invert predictions\n",
        "trainPredict = scaler.inverse_transform(trainPredict)\n",
        "trainY = scaler.inverse_transform([trainY])\n",
        "testPredict = scaler.inverse_transform(testPredict)\n",
        "testY = scaler.inverse_transform([testY])\n",
        "\n",
        "# calculate root mean squared error\n",
        "trainScore = math.sqrt(mean_squared_error(trainY[0], trainPredict[:,0]))\n",
        "print('Train Score: %.2f RMSE' % (trainScore))\n",
        "testScore = math.sqrt(mean_squared_error(testY[0], testPredict[:,0]))\n",
        "print('Test Score: %.2f RMSE' % (testScore))\n",
        "\n",
        "# shift train predictions for plotting\n",
        "trainPredictPlot = numpy.empty_like(dataset)\n",
        "trainPredictPlot[:, :] = numpy.nan\n",
        "trainPredictPlot[look_back:len(trainPredict)+look_back, :] = trainPredict\n",
        "\n",
        "# shift test predictions for plotting\n",
        "testPredictPlot = numpy.empty_like(dataset)\n",
        "testPredictPlot[:, :] = numpy.nan\n",
        "testPredictPlot[len(trainPredict)+(look_back*2)+1:len(dataset)-1, :] = testPredict\n",
        "\n",
        "# plot baseline and predictions\n",
        "plt.plot(scaler.inverse_transform(dataset))\n",
        "plt.plot(trainPredictPlot)\n",
        "plt.plot(testPredictPlot)\n",
        "plt.show()"
      ],
      "execution_count": 87,
      "outputs": [
        {
          "output_type": "stream",
          "text": [
            "Epoch 1/100\n",
            "19/19 - 1s - loss: 0.0488\n",
            "Epoch 2/100\n",
            "19/19 - 0s - loss: 0.0374\n",
            "Epoch 3/100\n",
            "19/19 - 0s - loss: 0.0295\n",
            "Epoch 4/100\n",
            "19/19 - 0s - loss: 0.0236\n",
            "Epoch 5/100\n",
            "19/19 - 0s - loss: 0.0194\n",
            "Epoch 6/100\n",
            "19/19 - 0s - loss: 0.0165\n",
            "Epoch 7/100\n",
            "19/19 - 0s - loss: 0.0150\n",
            "Epoch 8/100\n",
            "19/19 - 0s - loss: 0.0141\n",
            "Epoch 9/100\n",
            "19/19 - 0s - loss: 0.0136\n",
            "Epoch 10/100\n",
            "19/19 - 0s - loss: 0.0132\n",
            "Epoch 11/100\n",
            "19/19 - 0s - loss: 0.0128\n",
            "Epoch 12/100\n",
            "19/19 - 0s - loss: 0.0124\n",
            "Epoch 13/100\n",
            "19/19 - 0s - loss: 0.0121\n",
            "Epoch 14/100\n",
            "19/19 - 0s - loss: 0.0117\n",
            "Epoch 15/100\n",
            "19/19 - 0s - loss: 0.0113\n",
            "Epoch 16/100\n",
            "19/19 - 0s - loss: 0.0109\n",
            "Epoch 17/100\n",
            "19/19 - 0s - loss: 0.0105\n",
            "Epoch 18/100\n",
            "19/19 - 0s - loss: 0.0101\n",
            "Epoch 19/100\n",
            "19/19 - 0s - loss: 0.0097\n",
            "Epoch 20/100\n",
            "19/19 - 0s - loss: 0.0092\n",
            "Epoch 21/100\n",
            "19/19 - 0s - loss: 0.0088\n",
            "Epoch 22/100\n",
            "19/19 - 0s - loss: 0.0085\n",
            "Epoch 23/100\n",
            "19/19 - 0s - loss: 0.0081\n",
            "Epoch 24/100\n",
            "19/19 - 0s - loss: 0.0077\n",
            "Epoch 25/100\n",
            "19/19 - 0s - loss: 0.0074\n",
            "Epoch 26/100\n",
            "19/19 - 0s - loss: 0.0070\n",
            "Epoch 27/100\n",
            "19/19 - 0s - loss: 0.0066\n",
            "Epoch 28/100\n",
            "19/19 - 0s - loss: 0.0062\n",
            "Epoch 29/100\n",
            "19/19 - 0s - loss: 0.0059\n",
            "Epoch 30/100\n",
            "19/19 - 0s - loss: 0.0055\n",
            "Epoch 31/100\n",
            "19/19 - 0s - loss: 0.0051\n",
            "Epoch 32/100\n",
            "19/19 - 0s - loss: 0.0048\n",
            "Epoch 33/100\n",
            "19/19 - 0s - loss: 0.0045\n",
            "Epoch 34/100\n",
            "19/19 - 0s - loss: 0.0042\n",
            "Epoch 35/100\n",
            "19/19 - 0s - loss: 0.0039\n",
            "Epoch 36/100\n",
            "19/19 - 0s - loss: 0.0036\n",
            "Epoch 37/100\n",
            "19/19 - 0s - loss: 0.0034\n",
            "Epoch 38/100\n",
            "19/19 - 0s - loss: 0.0032\n",
            "Epoch 39/100\n",
            "19/19 - 0s - loss: 0.0029\n",
            "Epoch 40/100\n",
            "19/19 - 0s - loss: 0.0028\n",
            "Epoch 41/100\n",
            "19/19 - 0s - loss: 0.0026\n",
            "Epoch 42/100\n",
            "19/19 - 0s - loss: 0.0025\n",
            "Epoch 43/100\n",
            "19/19 - 0s - loss: 0.0024\n",
            "Epoch 44/100\n",
            "19/19 - 0s - loss: 0.0023\n",
            "Epoch 45/100\n",
            "19/19 - 0s - loss: 0.0022\n",
            "Epoch 46/100\n",
            "19/19 - 0s - loss: 0.0022\n",
            "Epoch 47/100\n",
            "19/19 - 0s - loss: 0.0021\n",
            "Epoch 48/100\n",
            "19/19 - 0s - loss: 0.0021\n",
            "Epoch 49/100\n",
            "19/19 - 0s - loss: 0.0021\n",
            "Epoch 50/100\n",
            "19/19 - 0s - loss: 0.0021\n",
            "Epoch 51/100\n",
            "19/19 - 0s - loss: 0.0021\n",
            "Epoch 52/100\n",
            "19/19 - 0s - loss: 0.0020\n",
            "Epoch 53/100\n",
            "19/19 - 0s - loss: 0.0020\n",
            "Epoch 54/100\n",
            "19/19 - 0s - loss: 0.0020\n",
            "Epoch 55/100\n",
            "19/19 - 0s - loss: 0.0020\n",
            "Epoch 56/100\n",
            "19/19 - 0s - loss: 0.0020\n",
            "Epoch 57/100\n",
            "19/19 - 0s - loss: 0.0020\n",
            "Epoch 58/100\n",
            "19/19 - 0s - loss: 0.0020\n",
            "Epoch 59/100\n",
            "19/19 - 0s - loss: 0.0020\n",
            "Epoch 60/100\n",
            "19/19 - 0s - loss: 0.0020\n",
            "Epoch 61/100\n",
            "19/19 - 0s - loss: 0.0020\n",
            "Epoch 62/100\n",
            "19/19 - 0s - loss: 0.0020\n",
            "Epoch 63/100\n",
            "19/19 - 0s - loss: 0.0020\n",
            "Epoch 64/100\n",
            "19/19 - 0s - loss: 0.0020\n",
            "Epoch 65/100\n",
            "19/19 - 0s - loss: 0.0020\n",
            "Epoch 66/100\n",
            "19/19 - 0s - loss: 0.0020\n",
            "Epoch 67/100\n",
            "19/19 - 0s - loss: 0.0020\n",
            "Epoch 68/100\n",
            "19/19 - 0s - loss: 0.0020\n",
            "Epoch 69/100\n",
            "19/19 - 0s - loss: 0.0020\n",
            "Epoch 70/100\n",
            "19/19 - 0s - loss: 0.0020\n",
            "Epoch 71/100\n",
            "19/19 - 0s - loss: 0.0020\n",
            "Epoch 72/100\n",
            "19/19 - 0s - loss: 0.0020\n",
            "Epoch 73/100\n",
            "19/19 - 0s - loss: 0.0020\n",
            "Epoch 74/100\n",
            "19/19 - 0s - loss: 0.0020\n",
            "Epoch 75/100\n",
            "19/19 - 0s - loss: 0.0020\n",
            "Epoch 76/100\n",
            "19/19 - 0s - loss: 0.0020\n",
            "Epoch 77/100\n",
            "19/19 - 0s - loss: 0.0020\n",
            "Epoch 78/100\n",
            "19/19 - 0s - loss: 0.0020\n",
            "Epoch 79/100\n",
            "19/19 - 0s - loss: 0.0020\n",
            "Epoch 80/100\n",
            "19/19 - 0s - loss: 0.0020\n",
            "Epoch 81/100\n",
            "19/19 - 0s - loss: 0.0020\n",
            "Epoch 82/100\n",
            "19/19 - 0s - loss: 0.0020\n",
            "Epoch 83/100\n",
            "19/19 - 0s - loss: 0.0020\n",
            "Epoch 84/100\n",
            "19/19 - 0s - loss: 0.0020\n",
            "Epoch 85/100\n",
            "19/19 - 0s - loss: 0.0020\n",
            "Epoch 86/100\n",
            "19/19 - 0s - loss: 0.0020\n",
            "Epoch 87/100\n",
            "19/19 - 0s - loss: 0.0020\n",
            "Epoch 88/100\n",
            "19/19 - 0s - loss: 0.0020\n",
            "Epoch 89/100\n",
            "19/19 - 0s - loss: 0.0020\n",
            "Epoch 90/100\n",
            "19/19 - 0s - loss: 0.0020\n",
            "Epoch 91/100\n",
            "19/19 - 0s - loss: 0.0020\n",
            "Epoch 92/100\n",
            "19/19 - 0s - loss: 0.0020\n",
            "Epoch 93/100\n",
            "19/19 - 0s - loss: 0.0020\n",
            "Epoch 94/100\n",
            "19/19 - 0s - loss: 0.0020\n",
            "Epoch 95/100\n",
            "19/19 - 0s - loss: 0.0020\n",
            "Epoch 96/100\n",
            "19/19 - 0s - loss: 0.0020\n",
            "Epoch 97/100\n",
            "19/19 - 0s - loss: 0.0020\n",
            "Epoch 98/100\n",
            "19/19 - 0s - loss: 0.0020\n",
            "Epoch 99/100\n",
            "19/19 - 0s - loss: 0.0020\n",
            "Epoch 100/100\n",
            "19/19 - 0s - loss: 0.0020\n",
            "Train Score: 23.00 RMSE\n",
            "Test Score: 47.70 RMSE\n"
          ],
          "name": "stdout"
        },
        {
          "output_type": "display_data",
          "data": {
            "image/png": "[encoded data removed]",
            "text/plain": [
              "<Figure size 432x288 with 1 Axes>"
            ]
          },
          "metadata": {
            "tags": [],
            "needs_background": "light"
          }
        }
      ]
    }
  ]
}
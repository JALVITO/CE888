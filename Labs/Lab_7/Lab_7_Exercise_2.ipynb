{
  "nbformat": 4,
  "nbformat_minor": 0,
  "metadata": {
    "colab": {
      "name": "Lab_7_Exercise_2.ipynb",
      "provenance": [],
      "collapsed_sections": [],
      "include_colab_link": true
    },
    "kernelspec": {
      "name": "python3",
      "display_name": "Python 3"
    },
    "accelerator": "GPU"
  },
  "cells": [
    {
      "cell_type": "markdown",
      "metadata": {
        "id": "view-in-github",
        "colab_type": "text"
      },
      "source": [
        "<a href=\"https://colab.research.google.com/github/JALVITO/CE888/blob/master/Labs/Lab_7/Lab_7_Exercise_2.ipynb\" target=\"_parent\"><img src=\"https://colab.research.google.com/assets/colab-badge.svg\" alt=\"Open In Colab\"/></a>"
      ]
    },
    {
      "cell_type": "markdown",
      "metadata": {
        "id": "qTh9DiKVslsJ"
      },
      "source": [
        "## Dogs vs. Cats \n",
        "\n",
        "In this competition, you'll write an algorithm to classify whether images contain either a dog or a cat.  This is easy for humans, dogs, and cats. Your computer will find it a bit more difficult.\n",
        "\n",
        "![alt text](https://miro.medium.com/max/3000/1*bhFifratH9DjKqMBTeQG5A.gif)\n",
        "\n",
        "Ref: https://medium.com/@thegrigorian/rolling-in-the-deep-cnn-c8d3f7108c8c"
      ]
    },
    {
      "cell_type": "markdown",
      "metadata": {
        "id": "RSBI-_mSSY1g"
      },
      "source": [
        "Get your API Key from Kaggle using following steps:\n",
        "1. Login to [Kaggle](https://www.kaggle.com/) or Register if you don't have account\n",
        "2. Open Dataset (https://www.kaggle.com/c/dogs-vs-cats/rules) and accept terms and condition. \n",
        "3. On the top right corner click on your Icon and go to accounts and press a button \"Create New API Token\". It will download a JSON file containing your username and key. \n",
        "4. Now, paste both below. \n"
      ]
    },
    {
      "cell_type": "code",
      "metadata": {
        "id": "YmXSOc0tZIGA",
        "colab": {
          "base_uri": "https://localhost:8080/"
        },
        "outputId": "1d63b8f1-7fd5-48e4-ed24-9ca46c756c05"
      },
      "source": [
        "import os\n",
        "os.environ['KAGGLE_USERNAME'] = \"juanantoniolizrraga\" # username from the json file\n",
        "os.environ['KAGGLE_KEY'] = \"666bc443dc64f170e49e6ca8c5c1d311\" # key from the json file\n",
        "!kaggle competitions download -c dogs-vs-cats # api copied from kaggle (https://www.kaggle.com/c/dogs-vs-cats/data)"
      ],
      "execution_count": 3,
      "outputs": [
        {
          "output_type": "stream",
          "text": [
            "Warning: Looks like you're using an outdated API Version, please consider updating (server 1.5.10 / client 1.5.4)\n",
            "Downloading train.zip to /content\n",
            " 96% 521M/543M [00:03<00:00, 191MB/s]\n",
            "100% 543M/543M [00:03<00:00, 162MB/s]\n",
            "Downloading sampleSubmission.csv to /content\n",
            "  0% 0.00/86.8k [00:00<?, ?B/s]\n",
            "100% 86.8k/86.8k [00:00<00:00, 87.5MB/s]\n",
            "Downloading test1.zip to /content\n",
            " 98% 267M/271M [00:02<00:00, 105MB/s]\n",
            "100% 271M/271M [00:02<00:00, 99.5MB/s]\n"
          ],
          "name": "stdout"
        }
      ]
    },
    {
      "cell_type": "code",
      "metadata": {
        "id": "PiwIL8d1n7eS",
        "colab": {
          "base_uri": "https://localhost:8080/"
        },
        "outputId": "a49d2ac0-6c79-4315-f13f-86cfc436f985"
      },
      "source": [
        "# Unzip training data\n",
        "from zipfile import ZipFile\n",
        "file_name = \"/content/train.zip\"\n",
        "with ZipFile(file_name, 'r') as zip:\n",
        "  zip.extractall()\n",
        "  print('done')"
      ],
      "execution_count": 4,
      "outputs": [
        {
          "output_type": "stream",
          "text": [
            "done\n"
          ],
          "name": "stdout"
        }
      ]
    },
    {
      "cell_type": "code",
      "metadata": {
        "id": "sa2Bj5i7pPKV",
        "colab": {
          "base_uri": "https://localhost:8080/"
        },
        "outputId": "6c5edde6-1843-460e-f19b-a65f7fdccefd"
      },
      "source": [
        "# Get all the paths\n",
        "data_dir_list = os.listdir('/content/train')\n",
        "#print(data_dir_list)\n",
        "path, dirs, files = next(os.walk(\"/content/train\"))\n",
        "file_count = len(files)\n",
        "print(file_count)"
      ],
      "execution_count": 5,
      "outputs": [
        {
          "output_type": "stream",
          "text": [
            "25000\n"
          ],
          "name": "stdout"
        }
      ]
    },
    {
      "cell_type": "code",
      "metadata": {
        "id": "0ERlHkfHqpK8"
      },
      "source": [
        "# Make new base directory\n",
        "original_dataset_dir = '/content/train'\n",
        "base_dir = '/content/cats_and_dogs_small'\n",
        "os.mkdir(base_dir)"
      ],
      "execution_count": 6,
      "outputs": []
    },
    {
      "cell_type": "code",
      "metadata": {
        "id": "AANB1UJ6rQhM"
      },
      "source": [
        "train_dir = os.path.join(base_dir, 'train')\n",
        "os.mkdir(train_dir)\n",
        "\n",
        "validation_dir = os.path.join(base_dir, 'validation')\n",
        "os.mkdir(validation_dir)\n",
        "\n",
        "test_dir = os.path.join(base_dir, 'test')\n",
        "os.mkdir(test_dir)\n",
        "\n",
        "train_cats_dir = os.path.join(train_dir, 'cats')\n",
        "os.mkdir(train_cats_dir)\n",
        "\n",
        "train_dogs_dir = os.path.join(train_dir, 'dogs')\n",
        "os.mkdir(train_dogs_dir)\n",
        "\n",
        "validation_cats_dir = os.path.join(validation_dir, 'cats')\n",
        "os.mkdir(validation_cats_dir)\n",
        "\n",
        "validation_dogs_dir = os.path.join(validation_dir, 'dogs')\n",
        "os.mkdir(validation_dogs_dir)\n",
        "\n",
        "test_cats_dir = os.path.join(test_dir, 'cats')\n",
        "os.mkdir(test_cats_dir)\n",
        "\n",
        "test_dogs_dir = os.path.join(test_dir, 'dogs')\n",
        "os.mkdir(test_dogs_dir)"
      ],
      "execution_count": 7,
      "outputs": []
    },
    {
      "cell_type": "code",
      "metadata": {
        "id": "ULRgL9s9rV8T"
      },
      "source": [
        "import shutil\n",
        "fnames = ['cat.{}.jpg'.format(i) for i in range(1000)]\n",
        "for fname in fnames:\n",
        "    src = os.path.join(original_dataset_dir, fname)\n",
        "    dst = os.path.join(train_cats_dir, fname)\n",
        "    #print(src,dst)\n",
        "    shutil.copyfile(src, dst)\n",
        "    \n",
        "fnames = ['cat.{}.jpg'.format(i) for i in range(1000, 1500)]\n",
        "for fname in fnames:\n",
        "    src = os.path.join(original_dataset_dir, fname)\n",
        "    dst = os.path.join(validation_cats_dir, fname)\n",
        "    shutil.copyfile(src, dst)\n",
        "\n",
        "fnames = ['cat.{}.jpg'.format(i) for i in range(1500, 2000)]\n",
        "for fname in fnames:\n",
        "    src = os.path.join(original_dataset_dir, fname)\n",
        "    dst = os.path.join(test_cats_dir, fname)\n",
        "    shutil.copyfile(src, dst)\n",
        "    \n",
        "fnames = ['dog.{}.jpg'.format(i) for i in range(1000)]\n",
        "for fname in fnames:\n",
        "    src = os.path.join(original_dataset_dir, fname)\n",
        "    dst = os.path.join(train_dogs_dir, fname)\n",
        "    shutil.copyfile(src, dst)\n",
        "\n",
        "fnames = ['dog.{}.jpg'.format(i) for i in range(1000, 1500)]\n",
        "for fname in fnames:\n",
        "    src = os.path.join(original_dataset_dir, fname)\n",
        "    dst = os.path.join(validation_dogs_dir, fname)\n",
        "    shutil.copyfile(src, dst)\n",
        "\n",
        "fnames = ['dog.{}.jpg'.format(i) for i in range(1500, 2000)]\n",
        "for fname in fnames:\n",
        "    src = os.path.join(original_dataset_dir, fname)\n",
        "    dst = os.path.join(test_dogs_dir, fname)\n",
        "    shutil.copyfile(src, dst)"
      ],
      "execution_count": 8,
      "outputs": []
    },
    {
      "cell_type": "code",
      "metadata": {
        "id": "ul3XAbIyr7vC",
        "colab": {
          "base_uri": "https://localhost:8080/"
        },
        "outputId": "c5410e33-5b12-44ea-a974-6c1144894e99"
      },
      "source": [
        "print('total training cat images:', len(os.listdir(train_cats_dir)))\n",
        "print('total training dog images:', len(os.listdir(train_dogs_dir)))\n",
        "print('total validation cat images:', len(os.listdir(validation_cats_dir)))\n",
        "\n",
        "print('total validation dog images:', len(os.listdir(validation_dogs_dir)))\n",
        "print('total test cat images:', len(os.listdir(test_cats_dir)))\n",
        "print('total test dog images:', len(os.listdir(test_dogs_dir)))"
      ],
      "execution_count": 9,
      "outputs": [
        {
          "output_type": "stream",
          "text": [
            "total training cat images: 1000\n",
            "total training dog images: 1000\n",
            "total validation cat images: 500\n",
            "total validation dog images: 500\n",
            "total test cat images: 500\n",
            "total test dog images: 500\n"
          ],
          "name": "stdout"
        }
      ]
    },
    {
      "cell_type": "code",
      "metadata": {
        "id": "o9yTA21_r-ma",
        "colab": {
          "base_uri": "https://localhost:8080/"
        },
        "outputId": "79f9c838-a8e0-4547-b7ab-68f62cb1f41f"
      },
      "source": [
        "from keras import layers\n",
        "from keras import models\n",
        "\n",
        "model = models.Sequential()\n",
        "model.add(layers.Conv2D(32, (3, 3), activation='relu', input_shape=(150, 150, 3)))\n",
        "model.add(layers.MaxPooling2D((2, 2)))\n",
        "model.add(layers.Conv2D(64, (3, 3), activation='relu'))\n",
        "model.add(layers.MaxPooling2D((2, 2)))\n",
        "model.add(layers.Conv2D(128, (3, 3), activation='relu'))\n",
        "model.add(layers.MaxPooling2D((2, 2)))\n",
        "model.add(layers.Conv2D(128, (3, 3), activation='relu'))\n",
        "model.add(layers.MaxPooling2D((2, 2)))\n",
        "model.add(layers.Flatten())\n",
        "model.add(layers.Dense(512, activation='relu'))\n",
        "model.add(layers.Dense(1, activation='sigmoid'))\n",
        "model.summary()"
      ],
      "execution_count": 10,
      "outputs": [
        {
          "output_type": "stream",
          "text": [
            "Model: \"sequential\"\n",
            "_________________________________________________________________\n",
            "Layer (type)                 Output Shape              Param #   \n",
            "=================================================================\n",
            "conv2d (Conv2D)              (None, 148, 148, 32)      896       \n",
            "_________________________________________________________________\n",
            "max_pooling2d (MaxPooling2D) (None, 74, 74, 32)        0         \n",
            "_________________________________________________________________\n",
            "conv2d_1 (Conv2D)            (None, 72, 72, 64)        18496     \n",
            "_________________________________________________________________\n",
            "max_pooling2d_1 (MaxPooling2 (None, 36, 36, 64)        0         \n",
            "_________________________________________________________________\n",
            "conv2d_2 (Conv2D)            (None, 34, 34, 128)       73856     \n",
            "_________________________________________________________________\n",
            "max_pooling2d_2 (MaxPooling2 (None, 17, 17, 128)       0         \n",
            "_________________________________________________________________\n",
            "conv2d_3 (Conv2D)            (None, 15, 15, 128)       147584    \n",
            "_________________________________________________________________\n",
            "max_pooling2d_3 (MaxPooling2 (None, 7, 7, 128)         0         \n",
            "_________________________________________________________________\n",
            "flatten (Flatten)            (None, 6272)              0         \n",
            "_________________________________________________________________\n",
            "dense (Dense)                (None, 512)               3211776   \n",
            "_________________________________________________________________\n",
            "dense_1 (Dense)              (None, 1)                 513       \n",
            "=================================================================\n",
            "Total params: 3,453,121\n",
            "Trainable params: 3,453,121\n",
            "Non-trainable params: 0\n",
            "_________________________________________________________________\n"
          ],
          "name": "stdout"
        }
      ]
    },
    {
      "cell_type": "code",
      "metadata": {
        "id": "2mG8wekxsBVS"
      },
      "source": [
        "from keras import optimizers\n",
        "model.compile(loss='binary_crossentropy', \n",
        "              optimizer=optimizers.RMSprop(lr=1e-4),\n",
        "              metrics=['acc'])"
      ],
      "execution_count": 11,
      "outputs": []
    },
    {
      "cell_type": "markdown",
      "metadata": {
        "id": "7zS4Klm8qWp6"
      },
      "source": [
        "## Using ImageDataGenerator to read images from directories\n",
        "As you know by now, data should be formatted into appropriately preprocessed floatingpoint tensors before being fed into the network. Currently, the data sits on a drive as JPEG files, so the steps for getting it into the network are roughly as follows:\n",
        "\n",
        "* Read the picture files.\n",
        "* Decode the JPEG content to RGB grids of pixels.\n",
        "* Convert these into floating-point tensors.\n",
        "* Rescale the pixel values (between 0 and 255) to the [0, 1] interval (as you know, neural networks prefer to deal with small input values).\n",
        "\n",
        "It may seem a bit daunting, but fortunately Keras has utilities to take care of these steps automatically. Keras has a module with image-processing helper tools, located at keras.preprocessing.image. In particular, it contains the class ImageDataGenerator,which lets you quickly set up Python generators that can automatically turn image files on disk into batches of preprocessed tensors."
      ]
    },
    {
      "cell_type": "code",
      "metadata": {
        "id": "XJ7XU7t9sEh6",
        "colab": {
          "base_uri": "https://localhost:8080/"
        },
        "outputId": "b6f0573f-01b8-458b-e4e2-30182921c2b8"
      },
      "source": [
        "from keras.preprocessing.image import ImageDataGenerator\n",
        "\n",
        "train_datagen = ImageDataGenerator(rescale=1./255)\n",
        "test_datagen = ImageDataGenerator(rescale=1./255)\n",
        "\n",
        "train_generator = train_datagen.flow_from_directory(train_dir,\n",
        "                                                    target_size=(150, 150), \n",
        "                                                    batch_size=20,\n",
        "                                                    class_mode='binary')\n",
        "\n",
        "validation_generator = test_datagen.flow_from_directory(validation_dir,\n",
        "                                                        target_size=(150, 150),\n",
        "                                                        batch_size=20,\n",
        "                                                        class_mode='binary')"
      ],
      "execution_count": 12,
      "outputs": [
        {
          "output_type": "stream",
          "text": [
            "Found 2000 images belonging to 2 classes.\n",
            "Found 1000 images belonging to 2 classes.\n"
          ],
          "name": "stdout"
        }
      ]
    },
    {
      "cell_type": "markdown",
      "metadata": {
        "id": "SEgLywySqm4u"
      },
      "source": [
        "Let’s fit the model to the data using the generator. You do so using the fit_generator method, the equivalent of fit for data generators like this one. It expects as its first argument a Python generator that will yield batches of inputs and targets indefinitely,like this one does. Because the data is being generated endlessly, the Keras model needs to know how many samples to draw from the generator before declaring anepoch over. This is the role of the `steps_per_epoch` argument: after having drawn `steps_per_epoch` batches from the generator—that is, after having run for `steps_per_epoch` gradient descent steps—the fitting process will go to the next epoch. In this case, batches are 20 samples, so it will take 100 batches until you see your target of 2,000 samples.\n",
        "\n",
        "When using fit_generator, you can pass a validation_data argument, much as with the fit method. It’s important to note that this argument is allowed to be a data generator, but it could also be a tuple of Numpy arrays. If you pass a generator as validation_data, then this generator is expected to yield batches of validation data endlessly; thus you should also specify the validation_steps argument, which tells the process how many batches to draw from the validation generator for evaluation."
      ]
    },
    {
      "cell_type": "code",
      "metadata": {
        "id": "yMyfPphJsJG6",
        "colab": {
          "base_uri": "https://localhost:8080/"
        },
        "outputId": "3da753f0-14db-4e0c-875a-56ea6debdd9e"
      },
      "source": [
        "history = model.fit_generator(train_generator,\n",
        "                              steps_per_epoch=100,\n",
        "                              epochs=30,\n",
        "                              validation_data=validation_generator,\n",
        "                              validation_steps=10)"
      ],
      "execution_count": 13,
      "outputs": [
        {
          "output_type": "stream",
          "text": [
            "/usr/local/lib/python3.7/dist-packages/tensorflow/python/keras/engine/training.py:1844: UserWarning: `Model.fit_generator` is deprecated and will be removed in a future version. Please use `Model.fit`, which supports generators.\n",
            "  warnings.warn('`Model.fit_generator` is deprecated and '\n"
          ],
          "name": "stderr"
        },
        {
          "output_type": "stream",
          "text": [
            "Epoch 1/30\n",
            "100/100 [==============================] - 40s 70ms/step - loss: 0.6986 - acc: 0.5235 - val_loss: 0.6739 - val_acc: 0.6100\n",
            "Epoch 2/30\n",
            "100/100 [==============================] - 7s 67ms/step - loss: 0.6647 - acc: 0.6057 - val_loss: 0.6516 - val_acc: 0.6150\n",
            "Epoch 3/30\n",
            "100/100 [==============================] - 7s 67ms/step - loss: 0.6261 - acc: 0.6539 - val_loss: 0.6148 - val_acc: 0.6600\n",
            "Epoch 4/30\n",
            "100/100 [==============================] - 7s 69ms/step - loss: 0.5776 - acc: 0.7048 - val_loss: 0.6082 - val_acc: 0.6750\n",
            "Epoch 5/30\n",
            "100/100 [==============================] - 7s 67ms/step - loss: 0.5402 - acc: 0.7127 - val_loss: 0.5983 - val_acc: 0.6500\n",
            "Epoch 6/30\n",
            "100/100 [==============================] - 7s 67ms/step - loss: 0.5188 - acc: 0.7435 - val_loss: 0.5243 - val_acc: 0.7350\n",
            "Epoch 7/30\n",
            "100/100 [==============================] - 7s 68ms/step - loss: 0.4800 - acc: 0.7740 - val_loss: 0.5238 - val_acc: 0.7450\n",
            "Epoch 8/30\n",
            "100/100 [==============================] - 7s 66ms/step - loss: 0.4321 - acc: 0.7997 - val_loss: 0.5446 - val_acc: 0.7250\n",
            "Epoch 9/30\n",
            "100/100 [==============================] - 7s 69ms/step - loss: 0.4097 - acc: 0.8038 - val_loss: 0.5416 - val_acc: 0.7100\n",
            "Epoch 10/30\n",
            "100/100 [==============================] - 7s 68ms/step - loss: 0.3986 - acc: 0.8163 - val_loss: 0.6678 - val_acc: 0.6800\n",
            "Epoch 11/30\n",
            "100/100 [==============================] - 7s 68ms/step - loss: 0.3591 - acc: 0.8481 - val_loss: 0.4851 - val_acc: 0.7600\n",
            "Epoch 12/30\n",
            "100/100 [==============================] - 7s 68ms/step - loss: 0.3415 - acc: 0.8551 - val_loss: 0.5244 - val_acc: 0.7500\n",
            "Epoch 13/30\n",
            "100/100 [==============================] - 7s 68ms/step - loss: 0.3087 - acc: 0.8765 - val_loss: 0.6760 - val_acc: 0.6900\n",
            "Epoch 14/30\n",
            "100/100 [==============================] - 7s 70ms/step - loss: 0.2883 - acc: 0.8805 - val_loss: 0.6579 - val_acc: 0.7100\n",
            "Epoch 15/30\n",
            "100/100 [==============================] - 7s 67ms/step - loss: 0.2647 - acc: 0.8821 - val_loss: 0.7333 - val_acc: 0.6700\n",
            "Epoch 16/30\n",
            "100/100 [==============================] - 7s 68ms/step - loss: 0.2369 - acc: 0.9090 - val_loss: 0.6900 - val_acc: 0.6900\n",
            "Epoch 17/30\n",
            "100/100 [==============================] - 7s 67ms/step - loss: 0.2228 - acc: 0.9158 - val_loss: 0.6779 - val_acc: 0.7050\n",
            "Epoch 18/30\n",
            "100/100 [==============================] - 7s 68ms/step - loss: 0.2001 - acc: 0.9277 - val_loss: 0.7743 - val_acc: 0.7000\n",
            "Epoch 19/30\n",
            "100/100 [==============================] - 7s 67ms/step - loss: 0.1641 - acc: 0.9418 - val_loss: 0.6055 - val_acc: 0.7400\n",
            "Epoch 20/30\n",
            "100/100 [==============================] - 7s 67ms/step - loss: 0.1458 - acc: 0.9522 - val_loss: 0.6005 - val_acc: 0.7250\n",
            "Epoch 21/30\n",
            "100/100 [==============================] - 7s 66ms/step - loss: 0.1279 - acc: 0.9582 - val_loss: 0.8233 - val_acc: 0.6950\n",
            "Epoch 22/30\n",
            "100/100 [==============================] - 7s 67ms/step - loss: 0.1137 - acc: 0.9646 - val_loss: 0.6368 - val_acc: 0.7250\n",
            "Epoch 23/30\n",
            "100/100 [==============================] - 7s 68ms/step - loss: 0.0876 - acc: 0.9778 - val_loss: 0.9323 - val_acc: 0.6850\n",
            "Epoch 24/30\n",
            "100/100 [==============================] - 7s 67ms/step - loss: 0.0781 - acc: 0.9792 - val_loss: 0.7890 - val_acc: 0.7150\n",
            "Epoch 25/30\n",
            "100/100 [==============================] - 7s 68ms/step - loss: 0.0673 - acc: 0.9842 - val_loss: 0.6548 - val_acc: 0.7500\n",
            "Epoch 26/30\n",
            "100/100 [==============================] - 7s 67ms/step - loss: 0.0641 - acc: 0.9878 - val_loss: 0.9978 - val_acc: 0.7100\n",
            "Epoch 27/30\n",
            "100/100 [==============================] - 7s 66ms/step - loss: 0.0562 - acc: 0.9815 - val_loss: 1.2210 - val_acc: 0.7200\n",
            "Epoch 28/30\n",
            "100/100 [==============================] - 7s 68ms/step - loss: 0.0578 - acc: 0.9790 - val_loss: 0.9580 - val_acc: 0.7050\n",
            "Epoch 29/30\n",
            "100/100 [==============================] - 7s 67ms/step - loss: 0.0316 - acc: 0.9942 - val_loss: 0.8703 - val_acc: 0.7400\n",
            "Epoch 30/30\n",
            "100/100 [==============================] - 7s 66ms/step - loss: 0.0312 - acc: 0.9935 - val_loss: 0.8591 - val_acc: 0.7450\n"
          ],
          "name": "stdout"
        }
      ]
    },
    {
      "cell_type": "code",
      "metadata": {
        "id": "MZaZ2HWZsNUi",
        "colab": {
          "base_uri": "https://localhost:8080/",
          "height": 545
        },
        "outputId": "7691333a-546a-4ebb-e522-47ee836f7c53"
      },
      "source": [
        "model.save('cats_and_dogs_small_1.h5')\n",
        "\n",
        "import matplotlib.pyplot as plt\n",
        "\n",
        "acc = history.history['acc']\n",
        "val_acc = history.history['val_acc']\n",
        "loss = history.history['loss']\n",
        "val_loss = history.history['val_loss']\n",
        "\n",
        "epochs = range(1, len(acc) + 1)\n",
        "\n",
        "plt.plot(epochs, acc, 'bo', label='Training acc')\n",
        "plt.plot(epochs, val_acc, 'b', label='Validation acc')\n",
        "plt.title('Training and validation accuracy')\n",
        "plt.legend()\n",
        "\n",
        "plt.figure()\n",
        "\n",
        "plt.plot(epochs, loss, 'bo', label='Training loss')\n",
        "plt.plot(epochs, val_loss, 'b', label='Validation loss')\n",
        "plt.title('Training and validation loss')\n",
        "plt.legend()\n",
        "\n",
        "plt.show()"
      ],
      "execution_count": 14,
      "outputs": [
        {
          "output_type": "display_data",
          "data": {
            "image/png": "[encoded data removed]",
            "text/plain": [
              "<Figure size 432x288 with 1 Axes>"
            ]
          },
          "metadata": {
            "tags": [],
            "needs_background": "light"
          }
        },
        {
          "output_type": "display_data",
          "data": {
            "image/png": "[encoded data removed]",
            "text/plain": [
              "<Figure size 432x288 with 1 Axes>"
            ]
          },
          "metadata": {
            "tags": [],
            "needs_background": "light"
          }
        }
      ]
    },
    {
      "cell_type": "markdown",
      "metadata": {
        "id": "XKZmXmBcq_8-"
      },
      "source": [
        "## Convolutional Networks with Dropout\n",
        "\n",
        "![alt text](https://camo.githubusercontent.com/ee6fa1073247cd2c3d241300caf110d7a7541bc5/68747470733a2f2f63646e2d696d616765732d312e6d656469756d2e636f6d2f6d61782f3830302f312a4972644a355067684439596f4f7956415137334d4a772e676966)\n",
        "\n",
        "Ref: https://github.com/mneha4/Training-Neural-Nets---Guidelines"
      ]
    },
    {
      "cell_type": "code",
      "metadata": {
        "id": "wu3cqeYQrDeN"
      },
      "source": [
        "model = models.Sequential()\n",
        "model.add(layers.Conv2D(32, (3, 3), activation='relu',\n",
        "input_shape=(150, 150, 3)))\n",
        "model.add(layers.MaxPooling2D((2, 2)))\n",
        "model.add(layers.Conv2D(64, (3, 3), activation='relu'))\n",
        "model.add(layers.MaxPooling2D((2, 2)))\n",
        "model.add(layers.Conv2D(128, (3, 3), activation='relu'))\n",
        "model.add(layers.MaxPooling2D((2, 2)))\n",
        "model.add(layers.Conv2D(128, (3, 3), activation='relu'))\n",
        "model.add(layers.MaxPooling2D((2, 2)))\n",
        "model.add(layers.Flatten())\n",
        "model.add(layers.Dropout(0.5))\n",
        "model.add(layers.Dense(512, activation='relu'))\n",
        "model.add(layers.Dense(1, activation='sigmoid'))\n",
        "\n",
        "model.compile(loss='binary_crossentropy',\n",
        "              optimizer=optimizers.RMSprop(lr=1e-4),\n",
        "              metrics=['acc'])"
      ],
      "execution_count": 15,
      "outputs": []
    },
    {
      "cell_type": "code",
      "metadata": {
        "id": "QSeLpvY0rH7F",
        "colab": {
          "base_uri": "https://localhost:8080/"
        },
        "outputId": "d77b4374-a069-48b5-9222-930ca22cb9a3"
      },
      "source": [
        "\n",
        "train_datagen = ImageDataGenerator(rescale=1./255,\n",
        "                                   rotation_range=40,\n",
        "                                   width_shift_range=0.2,\n",
        "                                   height_shift_range=0.2,\n",
        "                                   shear_range=0.2,\n",
        "                                   zoom_range=0.2,\n",
        "                                   horizontal_flip=True,)\n",
        "\n",
        "test_datagen = ImageDataGenerator(rescale=1./255)\n",
        "\n",
        "train_generator = train_datagen.flow_from_directory(train_dir,\n",
        "                                                    target_size=(150, 150),\n",
        "                                                    batch_size=32,\n",
        "                                                    class_mode='binary')\n",
        "\n",
        "validation_generator = test_datagen.flow_from_directory(validation_dir,\n",
        "                                                        target_size=(150, 150),\n",
        "                                                        batch_size=32,\n",
        "                                                        class_mode='binary')\n",
        "\n",
        "history = model.fit(train_generator,\n",
        "                    epochs=20,\n",
        "                    validation_data=validation_generator)"
      ],
      "execution_count": 26,
      "outputs": [
        {
          "output_type": "stream",
          "text": [
            "Found 2000 images belonging to 2 classes.\n",
            "Found 1000 images belonging to 2 classes.\n",
            "Epoch 1/20\n",
            "63/63 [==============================] - 17s 274ms/step - loss: 0.5626 - acc: 0.6985 - val_loss: 0.5701 - val_acc: 0.6930\n",
            "Epoch 2/20\n",
            "63/63 [==============================] - 17s 271ms/step - loss: 0.5503 - acc: 0.7185 - val_loss: 0.5288 - val_acc: 0.7250\n",
            "Epoch 3/20\n",
            "63/63 [==============================] - 17s 271ms/step - loss: 0.5459 - acc: 0.7275 - val_loss: 0.5346 - val_acc: 0.7170\n",
            "Epoch 4/20\n",
            "63/63 [==============================] - 17s 273ms/step - loss: 0.5449 - acc: 0.7240 - val_loss: 0.5116 - val_acc: 0.7270\n",
            "Epoch 5/20\n",
            "63/63 [==============================] - 17s 274ms/step - loss: 0.5574 - acc: 0.7160 - val_loss: 0.5412 - val_acc: 0.7080\n",
            "Epoch 6/20\n",
            "63/63 [==============================] - 17s 273ms/step - loss: 0.5393 - acc: 0.7290 - val_loss: 0.5501 - val_acc: 0.7120\n",
            "Epoch 7/20\n",
            "63/63 [==============================] - 17s 277ms/step - loss: 0.5350 - acc: 0.7325 - val_loss: 0.5112 - val_acc: 0.7320\n",
            "Epoch 8/20\n",
            "63/63 [==============================] - 17s 274ms/step - loss: 0.5352 - acc: 0.7310 - val_loss: 0.5492 - val_acc: 0.6940\n",
            "Epoch 9/20\n",
            "63/63 [==============================] - 17s 275ms/step - loss: 0.5324 - acc: 0.7375 - val_loss: 0.5171 - val_acc: 0.7240\n",
            "Epoch 10/20\n",
            "63/63 [==============================] - 17s 275ms/step - loss: 0.5270 - acc: 0.7230 - val_loss: 0.5377 - val_acc: 0.7050\n",
            "Epoch 11/20\n",
            "63/63 [==============================] - 17s 273ms/step - loss: 0.5303 - acc: 0.7355 - val_loss: 0.5079 - val_acc: 0.7510\n",
            "Epoch 12/20\n",
            "63/63 [==============================] - 17s 273ms/step - loss: 0.5189 - acc: 0.7505 - val_loss: 0.5025 - val_acc: 0.7450\n",
            "Epoch 13/20\n",
            "63/63 [==============================] - 17s 273ms/step - loss: 0.5159 - acc: 0.7410 - val_loss: 0.5360 - val_acc: 0.7240\n",
            "Epoch 14/20\n",
            "63/63 [==============================] - 17s 273ms/step - loss: 0.5203 - acc: 0.7370 - val_loss: 0.5173 - val_acc: 0.7350\n",
            "Epoch 15/20\n",
            "63/63 [==============================] - 17s 274ms/step - loss: 0.5226 - acc: 0.7340 - val_loss: 0.4895 - val_acc: 0.7530\n",
            "Epoch 16/20\n",
            "63/63 [==============================] - 17s 272ms/step - loss: 0.5271 - acc: 0.7340 - val_loss: 0.5793 - val_acc: 0.6990\n",
            "Epoch 17/20\n",
            "63/63 [==============================] - 17s 274ms/step - loss: 0.5211 - acc: 0.7390 - val_loss: 0.4950 - val_acc: 0.7540\n",
            "Epoch 18/20\n",
            "63/63 [==============================] - 17s 273ms/step - loss: 0.5170 - acc: 0.7410 - val_loss: 0.5009 - val_acc: 0.7450\n",
            "Epoch 19/20\n",
            "63/63 [==============================] - 17s 277ms/step - loss: 0.5115 - acc: 0.7375 - val_loss: 0.5448 - val_acc: 0.7170\n",
            "Epoch 20/20\n",
            "63/63 [==============================] - 17s 274ms/step - loss: 0.5133 - acc: 0.7505 - val_loss: 0.4838 - val_acc: 0.7690\n"
          ],
          "name": "stdout"
        }
      ]
    },
    {
      "cell_type": "markdown",
      "metadata": {
        "id": "BRdU5yrkUF_b"
      },
      "source": [
        "# Task 2:\n",
        "\n",
        "We have used Dropout to enhance the performance of the CNN model. Can you please use whatever you like to further enhance the performance from `val_acc: 0.7506`? "
      ]
    },
    {
      "cell_type": "code",
      "metadata": {
        "id": "mgo80-mYBpwz"
      },
      "source": [
        "from keras import callbacks\n",
        "\n",
        "model = models.Sequential()\n",
        "model.add(layers.Conv2D(32, (3, 3), activation='relu', input_shape=(150, 150, 3)))\n",
        "model.add(layers.BatchNormalization())\n",
        "model.add(layers.MaxPooling2D((2, 2)))\n",
        "model.add(layers.Dropout(0.1))\n",
        "\n",
        "model.add(layers.Conv2D(64, (3, 3), activation='relu'))\n",
        "model.add(layers.BatchNormalization())\n",
        "model.add(layers.MaxPooling2D((2, 2)))\n",
        "model.add(layers.Dropout(0.1))\n",
        "\n",
        "model.add(layers.Conv2D(128, (3, 3), activation='relu'))\n",
        "model.add(layers.BatchNormalization())\n",
        "model.add(layers.MaxPooling2D((2, 2)))\n",
        "model.add(layers.Dropout(0.1))\n",
        "\n",
        "model.add(layers.Conv2D(128, (3, 3), activation='relu'))\n",
        "model.add(layers.BatchNormalization())\n",
        "model.add(layers.MaxPooling2D((2, 2)))\n",
        "model.add(layers.Dropout(0.1))\n",
        "\n",
        "model.add(layers.Flatten())\n",
        "model.add(layers.Dropout(0.2))\n",
        "model.add(layers.Dense(2048, activation='relu'))\n",
        "model.add(layers.Dense(1, activation='sigmoid'))\n",
        "\n",
        "model.compile(loss='binary_crossentropy',\n",
        "              optimizer=optimizers.RMSprop(lr=1e-4),\n",
        "              metrics=['acc'])\n",
        "\n",
        "early_stopping = callbacks.EarlyStopping(monitor='val_loss',\n",
        "                                         restore_best_weights=True,\n",
        "                                         patience=20)\n",
        "\n",
        "reduce_lr = callbacks.ReduceLROnPlateau(monitor='val_loss',\n",
        "                                        factor=0.2,\n",
        "                                        patience=5,\n",
        "                                        min_lr=1e-5)"
      ],
      "execution_count": 73,
      "outputs": []
    },
    {
      "cell_type": "code",
      "metadata": {
        "colab": {
          "base_uri": "https://localhost:8080/"
        },
        "id": "iQPo7SFUEyzd",
        "outputId": "6f82f2bc-5a3e-48e3-b9a5-93e8a06202c5"
      },
      "source": [
        "train_datagen = ImageDataGenerator(rescale=1./255,\n",
        "                                   rotation_range=40,\n",
        "                                   width_shift_range=0.2,\n",
        "                                   height_shift_range=0.2,\n",
        "                                   shear_range=0.2,\n",
        "                                   zoom_range=0.2,\n",
        "                                   horizontal_flip=True,)\n",
        "\n",
        "test_datagen = ImageDataGenerator(rescale=1./255)\n",
        "\n",
        "train_generator = train_datagen.flow_from_directory(train_dir,\n",
        "                                                    target_size=(150, 150),\n",
        "                                                    batch_size=32,\n",
        "                                                    class_mode='binary')\n",
        "\n",
        "validation_generator = test_datagen.flow_from_directory(validation_dir,\n",
        "                                                        target_size=(150, 150),\n",
        "                                                        batch_size=32,\n",
        "                                                        class_mode='binary')\n",
        "\n",
        "history = model.fit(train_generator,\n",
        "                    epochs=100,\n",
        "                    validation_data=validation_generator,\n",
        "                    callbacks = [early_stopping, reduce_lr])"
      ],
      "execution_count": 76,
      "outputs": [
        {
          "output_type": "stream",
          "text": [
            "Found 2000 images belonging to 2 classes.\n",
            "Found 1000 images belonging to 2 classes.\n",
            "Epoch 1/100\n",
            "63/63 [==============================] - 17s 274ms/step - loss: 0.4662 - acc: 0.7700 - val_loss: 0.6550 - val_acc: 0.7250\n",
            "Epoch 2/100\n",
            "63/63 [==============================] - 17s 274ms/step - loss: 0.4676 - acc: 0.7695 - val_loss: 0.6182 - val_acc: 0.7380\n",
            "Epoch 3/100\n",
            "63/63 [==============================] - 17s 277ms/step - loss: 0.4678 - acc: 0.7770 - val_loss: 0.6408 - val_acc: 0.7370\n",
            "Epoch 4/100\n",
            "63/63 [==============================] - 17s 273ms/step - loss: 0.4731 - acc: 0.7745 - val_loss: 0.6322 - val_acc: 0.7430\n",
            "Epoch 5/100\n",
            "63/63 [==============================] - 17s 273ms/step - loss: 0.4530 - acc: 0.7765 - val_loss: 0.6405 - val_acc: 0.7400\n",
            "Epoch 6/100\n",
            "63/63 [==============================] - 17s 273ms/step - loss: 0.4516 - acc: 0.7920 - val_loss: 0.6649 - val_acc: 0.7320\n",
            "Epoch 7/100\n",
            "63/63 [==============================] - 17s 274ms/step - loss: 0.4585 - acc: 0.7815 - val_loss: 0.6497 - val_acc: 0.7330\n",
            "Epoch 8/100\n",
            "63/63 [==============================] - 17s 274ms/step - loss: 0.4684 - acc: 0.7790 - val_loss: 0.6392 - val_acc: 0.7380\n",
            "Epoch 9/100\n",
            "63/63 [==============================] - 17s 274ms/step - loss: 0.4464 - acc: 0.8040 - val_loss: 0.6069 - val_acc: 0.7510\n",
            "Epoch 10/100\n",
            "63/63 [==============================] - 17s 274ms/step - loss: 0.4502 - acc: 0.7875 - val_loss: 0.6730 - val_acc: 0.7330\n",
            "Epoch 11/100\n",
            "63/63 [==============================] - 17s 272ms/step - loss: 0.4428 - acc: 0.7895 - val_loss: 0.6487 - val_acc: 0.7440\n",
            "Epoch 12/100\n",
            "63/63 [==============================] - 17s 272ms/step - loss: 0.4558 - acc: 0.7865 - val_loss: 0.6667 - val_acc: 0.7400\n",
            "Epoch 13/100\n",
            "63/63 [==============================] - 17s 274ms/step - loss: 0.4494 - acc: 0.7775 - val_loss: 0.6648 - val_acc: 0.7390\n",
            "Epoch 14/100\n",
            "63/63 [==============================] - 17s 274ms/step - loss: 0.4528 - acc: 0.7780 - val_loss: 0.6528 - val_acc: 0.7380\n",
            "Epoch 15/100\n",
            "63/63 [==============================] - 17s 275ms/step - loss: 0.4489 - acc: 0.7830 - val_loss: 0.6647 - val_acc: 0.7400\n",
            "Epoch 16/100\n",
            "63/63 [==============================] - 17s 272ms/step - loss: 0.4485 - acc: 0.7925 - val_loss: 0.6238 - val_acc: 0.7560\n",
            "Epoch 17/100\n",
            "63/63 [==============================] - 17s 277ms/step - loss: 0.4685 - acc: 0.7760 - val_loss: 0.6412 - val_acc: 0.7470\n",
            "Epoch 18/100\n",
            "63/63 [==============================] - 17s 274ms/step - loss: 0.4658 - acc: 0.7805 - val_loss: 0.6388 - val_acc: 0.7470\n",
            "Epoch 19/100\n",
            "63/63 [==============================] - 17s 274ms/step - loss: 0.4523 - acc: 0.7895 - val_loss: 0.6291 - val_acc: 0.7440\n",
            "Epoch 20/100\n",
            "63/63 [==============================] - 17s 275ms/step - loss: 0.4528 - acc: 0.7790 - val_loss: 0.6529 - val_acc: 0.7370\n",
            "Epoch 21/100\n",
            "63/63 [==============================] - 17s 275ms/step - loss: 0.4569 - acc: 0.7910 - val_loss: 0.6359 - val_acc: 0.7500\n",
            "Epoch 22/100\n",
            "63/63 [==============================] - 17s 273ms/step - loss: 0.4506 - acc: 0.7860 - val_loss: 0.6468 - val_acc: 0.7430\n",
            "Epoch 23/100\n",
            "63/63 [==============================] - 17s 275ms/step - loss: 0.4495 - acc: 0.7880 - val_loss: 0.6501 - val_acc: 0.7420\n",
            "Epoch 24/100\n",
            "63/63 [==============================] - 17s 274ms/step - loss: 0.4640 - acc: 0.7775 - val_loss: 0.6573 - val_acc: 0.7410\n",
            "Epoch 25/100\n",
            "63/63 [==============================] - 17s 272ms/step - loss: 0.4484 - acc: 0.7805 - val_loss: 0.6609 - val_acc: 0.7450\n",
            "Epoch 26/100\n",
            "63/63 [==============================] - 17s 273ms/step - loss: 0.4442 - acc: 0.7970 - val_loss: 0.6580 - val_acc: 0.7460\n",
            "Epoch 27/100\n",
            "63/63 [==============================] - 17s 274ms/step - loss: 0.4575 - acc: 0.7910 - val_loss: 0.6486 - val_acc: 0.7450\n",
            "Epoch 28/100\n",
            "63/63 [==============================] - 17s 274ms/step - loss: 0.4472 - acc: 0.7950 - val_loss: 0.6570 - val_acc: 0.7500\n",
            "Epoch 29/100\n",
            "63/63 [==============================] - 17s 271ms/step - loss: 0.4423 - acc: 0.7940 - val_loss: 0.6308 - val_acc: 0.7500\n"
          ],
          "name": "stdout"
        }
      ]
    },
    {
      "cell_type": "code",
      "metadata": {
        "colab": {
          "base_uri": "https://localhost:8080/"
        },
        "id": "8zEHCQmh6vSt",
        "outputId": "41eddeb0-b5ae-493c-c2b1-56965e3d2c6e"
      },
      "source": [
        "print(f'Best val acc: {max(history.history[\"val_acc\"]):.4f}')"
      ],
      "execution_count": 97,
      "outputs": [
        {
          "output_type": "stream",
          "text": [
            "Best val acc: 0.7560\n"
          ],
          "name": "stdout"
        }
      ]
    },
    {
      "cell_type": "code",
      "metadata": {
        "colab": {
          "base_uri": "https://localhost:8080/",
          "height": 545
        },
        "id": "SFUyCxymDYGu",
        "outputId": "10c39409-9332-4b59-b600-f2b601536e39"
      },
      "source": [
        "model.save('cats_and_dogs_small_2.h5')\n",
        "\n",
        "acc = history.history['acc']\n",
        "val_acc = history.history['val_acc']\n",
        "loss = history.history['loss']\n",
        "val_loss = history.history['val_loss']\n",
        "\n",
        "epochs = range(1, len(acc) + 1)\n",
        "\n",
        "plt.plot(epochs, acc, 'bo', label='Training acc')\n",
        "plt.plot(epochs, val_acc, 'b', label='Validation acc')\n",
        "plt.title('Training and validation accuracy')\n",
        "plt.legend()\n",
        "\n",
        "plt.figure()\n",
        "\n",
        "plt.plot(epochs, loss, 'bo', label='Training loss')\n",
        "plt.plot(epochs, val_loss, 'b', label='Validation loss')\n",
        "plt.title('Training and validation loss')\n",
        "plt.legend()\n",
        "\n",
        "plt.show()"
      ],
      "execution_count": 98,
      "outputs": [
        {
          "output_type": "display_data",
          "data": {
            "image/png": "[encoded data removed]",
            "text/plain": [
              "<Figure size 432x288 with 1 Axes>"
            ]
          },
          "metadata": {
            "tags": [],
            "needs_background": "light"
          }
        },
        {
          "output_type": "display_data",
          "data": {
            "image/png": "[encoded data removed]",
            "text/plain": [
              "<Figure size 432x288 with 1 Axes>"
            ]
          },
          "metadata": {
            "tags": [],
            "needs_background": "light"
          }
        }
      ]
    }
  ]
}
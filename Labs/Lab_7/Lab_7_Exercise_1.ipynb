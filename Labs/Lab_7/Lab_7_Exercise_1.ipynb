{
  "nbformat": 4,
  "nbformat_minor": 0,
  "metadata": {
    "kernelspec": {
      "display_name": "Python 3",
      "language": "python",
      "name": "python3"
    },
    "language_info": {
      "codemirror_mode": {
        "name": "ipython",
        "version": 3
      },
      "file_extension": ".py",
      "mimetype": "text/x-python",
      "name": "python",
      "nbconvert_exporter": "python",
      "pygments_lexer": "ipython3",
      "version": "3.6.5"
    },
    "colab": {
      "name": "Lab_7_Exercise_1.ipynb",
      "provenance": [],
      "collapsed_sections": [],
      "include_colab_link": true
    }
  },
  "cells": [
    {
      "cell_type": "markdown",
      "metadata": {
        "id": "view-in-github",
        "colab_type": "text"
      },
      "source": [
        "<a href=\"https://colab.research.google.com/github/JALVITO/CE888/blob/master/Labs/Lab_7/Lab_7_Exercise_1.ipynb\" target=\"_parent\"><img src=\"https://colab.research.google.com/assets/colab-badge.svg\" alt=\"Open In Colab\"/></a>"
      ]
    },
    {
      "cell_type": "markdown",
      "metadata": {
        "id": "vwRGEQbzGpYQ"
      },
      "source": [
        "# First CNN model for MNIST Dataset\n",
        "\n",
        "* MNIST Dataset is ''Hello World'' of Image Recognition\n",
        "\n",
        "* [Dataset HomePage](http://yann.lecun.com/exdb/mnist/)\n",
        "\n",
        "* History of MNIST Dataset [Watch here](https://www.youtube.com/watch?v=oKzNUGz21JM)\n",
        "\n",
        "\n",
        "---\n",
        "The MNIST database of handwritten digits, available from this page, has a training set of 60,000 examples, and a \n",
        "test set of 10,000 examples. It is a subset of a larger set available from NIST. The digits have been size-normalized and centered in a fixed-size image.\n",
        "\n",
        "![Kitten](https://camo.githubusercontent.com/01c057a753e92a9bc70b8c45d62b295431851c09cffadf53106fc0aea7e2843f/687474703a2f2f692e7974696d672e636f6d2f76692f3051493378675875422d512f687164656661756c742e6a7067)\n"
      ]
    },
    {
      "cell_type": "markdown",
      "metadata": {
        "id": "PhmJOHCpJD_w"
      },
      "source": [
        "# Let's start building our first CNN Model"
      ]
    },
    {
      "cell_type": "code",
      "metadata": {
        "id": "lSyHCSV7jymI"
      },
      "source": [
        "from keras import layers\n",
        "from keras import models"
      ],
      "execution_count": 1,
      "outputs": []
    },
    {
      "cell_type": "markdown",
      "metadata": {
        "id": "oWNzCYUUjymN"
      },
      "source": [
        "Importantly, a convnet takes as input tensors of shape (image_height, image_width,\n",
        "image_channels) (not including the batch dimension). In this case, we’ll configure\n",
        "the convnet to process inputs of size (28, 28, 1), which is the format of MNIST\n",
        "images. We’ll do this by passing the argument input_shape=(28, 28, 1) to the first\n",
        "layer."
      ]
    },
    {
      "cell_type": "markdown",
      "metadata": {
        "id": "dM4JLEpwjymN"
      },
      "source": [
        "#### Instantiating a small convnet"
      ]
    },
    {
      "cell_type": "code",
      "metadata": {
        "id": "p-OnpExGjymO",
        "colab": {
          "base_uri": "https://localhost:8080/"
        },
        "outputId": "38f5a6b8-86b1-4b6f-c0fb-82574266be58"
      },
      "source": [
        "model = models.Sequential()\n",
        "model.add(layers.Conv2D(32, (3, 3), activation='relu', input_shape=(28, 28, 1)))\n",
        "model.add(layers.MaxPooling2D((2, 2)))\n",
        "model.add(layers.Conv2D(64, (3, 3), activation='relu'))\n",
        "model.add(layers.MaxPooling2D((2, 2)))\n",
        "model.add(layers.Conv2D(64, (3, 3), activation='relu'))\n",
        "model.summary()"
      ],
      "execution_count": 2,
      "outputs": [
        {
          "output_type": "stream",
          "text": [
            "Model: \"sequential\"\n",
            "_________________________________________________________________\n",
            "Layer (type)                 Output Shape              Param #   \n",
            "=================================================================\n",
            "conv2d (Conv2D)              (None, 26, 26, 32)        320       \n",
            "_________________________________________________________________\n",
            "max_pooling2d (MaxPooling2D) (None, 13, 13, 32)        0         \n",
            "_________________________________________________________________\n",
            "conv2d_1 (Conv2D)            (None, 11, 11, 64)        18496     \n",
            "_________________________________________________________________\n",
            "max_pooling2d_1 (MaxPooling2 (None, 5, 5, 64)          0         \n",
            "_________________________________________________________________\n",
            "conv2d_2 (Conv2D)            (None, 3, 3, 64)          36928     \n",
            "=================================================================\n",
            "Total params: 55,744\n",
            "Trainable params: 55,744\n",
            "Non-trainable params: 0\n",
            "_________________________________________________________________\n"
          ],
          "name": "stdout"
        }
      ]
    },
    {
      "cell_type": "markdown",
      "metadata": {
        "id": "7gcVG3xkjymR"
      },
      "source": [
        "#### Adding a classifier on top of the convnet"
      ]
    },
    {
      "cell_type": "code",
      "metadata": {
        "id": "C2DfhDJYjymR",
        "colab": {
          "base_uri": "https://localhost:8080/"
        },
        "outputId": "6b2e2215-d189-43e5-c714-eaaae8729bd1"
      },
      "source": [
        "model.add(layers.Flatten())\n",
        "model.add(layers.Dense(64, activation='relu'))\n",
        "model.add(layers.Dense(10, activation='softmax'))\n",
        "model.summary()"
      ],
      "execution_count": 3,
      "outputs": [
        {
          "output_type": "stream",
          "text": [
            "Model: \"sequential\"\n",
            "_________________________________________________________________\n",
            "Layer (type)                 Output Shape              Param #   \n",
            "=================================================================\n",
            "conv2d (Conv2D)              (None, 26, 26, 32)        320       \n",
            "_________________________________________________________________\n",
            "max_pooling2d (MaxPooling2D) (None, 13, 13, 32)        0         \n",
            "_________________________________________________________________\n",
            "conv2d_1 (Conv2D)            (None, 11, 11, 64)        18496     \n",
            "_________________________________________________________________\n",
            "max_pooling2d_1 (MaxPooling2 (None, 5, 5, 64)          0         \n",
            "_________________________________________________________________\n",
            "conv2d_2 (Conv2D)            (None, 3, 3, 64)          36928     \n",
            "_________________________________________________________________\n",
            "flatten (Flatten)            (None, 576)               0         \n",
            "_________________________________________________________________\n",
            "dense (Dense)                (None, 64)                36928     \n",
            "_________________________________________________________________\n",
            "dense_1 (Dense)              (None, 10)                650       \n",
            "=================================================================\n",
            "Total params: 93,322\n",
            "Trainable params: 93,322\n",
            "Non-trainable params: 0\n",
            "_________________________________________________________________\n"
          ],
          "name": "stdout"
        }
      ]
    },
    {
      "cell_type": "markdown",
      "metadata": {
        "id": "NOKVF4nKjymU"
      },
      "source": [
        "### Training the convnet on MNIST images"
      ]
    },
    {
      "cell_type": "code",
      "metadata": {
        "id": "oIcgUbbUjymV"
      },
      "source": [
        "from keras.datasets import mnist\n",
        "from keras.utils import to_categorical"
      ],
      "execution_count": 4,
      "outputs": []
    },
    {
      "cell_type": "markdown",
      "metadata": {
        "id": "ZnJ2Pfs_jymX"
      },
      "source": [
        "#### Load Data"
      ]
    },
    {
      "cell_type": "code",
      "metadata": {
        "id": "JpHGHE9MjymY",
        "colab": {
          "base_uri": "https://localhost:8080/"
        },
        "outputId": "d4abdb0f-d9e5-47eb-9993-94176c257556"
      },
      "source": [
        "(train_images, train_labels), (test_images, test_labels) = mnist.load_data()\n",
        "train_images = train_images.reshape((60000, 28, 28, 1))\n",
        "train_images = train_images.astype('float32') / 255\n",
        "test_images = test_images.reshape((10000, 28, 28, 1))\n",
        "test_images = test_images.astype('float32') / 255\n",
        "train_labels = to_categorical(train_labels)\n",
        "test_labels = to_categorical(test_labels)"
      ],
      "execution_count": 5,
      "outputs": [
        {
          "output_type": "stream",
          "text": [
            "Downloading data from https://storage.googleapis.com/tensorflow/tf-keras-datasets/mnist.npz\n",
            "11493376/11490434 [==============================] - 0s 0us/step\n"
          ],
          "name": "stdout"
        }
      ]
    },
    {
      "cell_type": "markdown",
      "metadata": {
        "id": "4HoTLrfSjymd"
      },
      "source": [
        "#### compile and fit model "
      ]
    },
    {
      "cell_type": "code",
      "metadata": {
        "id": "i23FDtC9jyme",
        "colab": {
          "base_uri": "https://localhost:8080/"
        },
        "outputId": "69eecdbd-e780-454e-b31b-fd71496ce779"
      },
      "source": [
        "model.compile(optimizer='rmsprop', \n",
        "              loss='categorical_crossentropy',\n",
        "              metrics=['accuracy'])\n",
        "history = model.fit(train_images, train_labels, epochs=5, batch_size=64, validation_split=0.2)"
      ],
      "execution_count": 6,
      "outputs": [
        {
          "output_type": "stream",
          "text": [
            "Epoch 1/5\n",
            "750/750 [==============================] - 45s 58ms/step - loss: 0.4519 - accuracy: 0.8544 - val_loss: 0.0608 - val_accuracy: 0.9817\n",
            "Epoch 2/5\n",
            "750/750 [==============================] - 44s 58ms/step - loss: 0.0574 - accuracy: 0.9824 - val_loss: 0.0506 - val_accuracy: 0.9856\n",
            "Epoch 3/5\n",
            "750/750 [==============================] - 44s 58ms/step - loss: 0.0350 - accuracy: 0.9884 - val_loss: 0.0506 - val_accuracy: 0.9850\n",
            "Epoch 4/5\n",
            "750/750 [==============================] - 43s 58ms/step - loss: 0.0275 - accuracy: 0.9916 - val_loss: 0.0404 - val_accuracy: 0.9894\n",
            "Epoch 5/5\n",
            "750/750 [==============================] - 43s 58ms/step - loss: 0.0203 - accuracy: 0.9937 - val_loss: 0.0519 - val_accuracy: 0.9863\n"
          ],
          "name": "stdout"
        }
      ]
    },
    {
      "cell_type": "markdown",
      "metadata": {
        "id": "9zU8iI5ojymg"
      },
      "source": [
        "#### evaluate model"
      ]
    },
    {
      "cell_type": "code",
      "metadata": {
        "id": "Z3VeaL1Njymh",
        "colab": {
          "base_uri": "https://localhost:8080/"
        },
        "outputId": "5074f3dc-c2a1-45a1-a1e4-c21c5f11493c"
      },
      "source": [
        "test_loss, test_acc = model.evaluate(test_images, test_labels)\n",
        "test_acc"
      ],
      "execution_count": 7,
      "outputs": [
        {
          "output_type": "stream",
          "text": [
            "313/313 [==============================] - 3s 10ms/step - loss: 0.0427 - accuracy: 0.9877\n"
          ],
          "name": "stdout"
        },
        {
          "output_type": "execute_result",
          "data": {
            "text/plain": [
              "0.9876999855041504"
            ]
          },
          "metadata": {
            "tags": []
          },
          "execution_count": 7
        }
      ]
    },
    {
      "cell_type": "code",
      "metadata": {
        "id": "wXNZOY7Sjymj",
        "colab": {
          "base_uri": "https://localhost:8080/",
          "height": 545
        },
        "outputId": "ff595f52-2d6c-4869-88fc-19909b1184d6"
      },
      "source": [
        "import matplotlib.pyplot as plt\n",
        "\n",
        "acc = history.history['accuracy']\n",
        "val_acc = history.history['val_accuracy']\n",
        "loss = history.history['loss']\n",
        "val_loss = history.history['val_loss']\n",
        "\n",
        "epochs = range(1, len(acc) + 1)\n",
        "\n",
        "plt.plot(epochs, acc, 'bo', label='Training acc')\n",
        "plt.plot(epochs, val_acc, 'b', label='Validation acc')\n",
        "plt.title('Training and validation accuracy')\n",
        "plt.legend()\n",
        "\n",
        "plt.figure()\n",
        "\n",
        "plt.plot(epochs, loss, 'bo', label='Training loss')\n",
        "plt.plot(epochs, val_loss, 'b', label='Validation loss')\n",
        "plt.title('Training and validation loss')\n",
        "plt.legend()\n",
        "\n",
        "plt.show()"
      ],
      "execution_count": 11,
      "outputs": [
        {
          "output_type": "display_data",
          "data": {
            "image/png": "[encoded data removed]",
            "text/plain": [
              "<Figure size 432x288 with 1 Axes>"
            ]
          },
          "metadata": {
            "tags": [],
            "needs_background": "light"
          }
        },
        {
          "output_type": "display_data",
          "data": {
            "image/png": "[encoded data removed]",
            "text/plain": [
              "<Figure size 432x288 with 1 Axes>"
            ]
          },
          "metadata": {
            "tags": [],
            "needs_background": "light"
          }
        }
      ]
    },
    {
      "cell_type": "markdown",
      "metadata": {
        "id": "dsQMc0Iojyml"
      },
      "source": [
        "## Task 1\n",
        "\n",
        "Change the activation function and other parameters such as optimizer to see the effect on the network and it's performance. If possible create a grid search. "
      ]
    },
    {
      "cell_type": "code",
      "metadata": {
        "id": "owJ-29BrJXNa"
      },
      "source": [
        "def create_model(optimizer='Adam', activation='relu'):\n",
        "  model = models.Sequential()\n",
        "\n",
        "  # ConvNet\n",
        "  model.add(layers.Conv2D(32, (3, 3), activation=activation, input_shape=(28, 28, 1)))\n",
        "  model.add(layers.MaxPooling2D((2, 2)))\n",
        "  model.add(layers.Conv2D(64, (3, 3), activation=activation))\n",
        "  model.add(layers.MaxPooling2D((2, 2)))\n",
        "  model.add(layers.Conv2D(64, (3, 3), activation=activation))\n",
        "\n",
        "  # Classifier\n",
        "  model.add(layers.Flatten())\n",
        "  model.add(layers.Dense(64, activation=activation))\n",
        "  model.add(layers.Dense(10, activation='softmax'))\n",
        "\n",
        "  model.compile(optimizer=optimizer, \n",
        "                loss='categorical_crossentropy',\n",
        "                metrics=['accuracy'])\n",
        "\n",
        "  return model"
      ],
      "execution_count": 19,
      "outputs": []
    },
    {
      "cell_type": "code",
      "metadata": {
        "colab": {
          "base_uri": "https://localhost:8080/"
        },
        "id": "Nb0ftB4A2ArU",
        "outputId": "c5f65138-09ca-4d0f-90ff-d8a81cdeda44"
      },
      "source": [
        "from keras.wrappers.scikit_learn import KerasClassifier\n",
        "from sklearn.model_selection import GridSearchCV\n",
        "\n",
        "batch_size = [64, 128]\n",
        "optimizer = ['RMSprop', 'Adam']\n",
        "activation = ['relu', 'sigmoid']\n",
        "param_grid = dict(batch_size=batch_size, optimizer=optimizer, activation=activation)\n",
        "\n",
        "model = KerasClassifier(build_fn=create_model, epochs=5)\n",
        "grid = GridSearchCV(estimator=model, param_grid=param_grid, verbose=1)\n",
        "grid_result = grid.fit(train_images, train_labels)\n",
        "\n",
        "print(\"Best: %f using %s\" % (grid_result.best_score_, grid_result.best_params_))"
      ],
      "execution_count": 24,
      "outputs": [
        {
          "output_type": "stream",
          "text": [
            "Fitting 5 folds for each of 8 candidates, totalling 40 fits\n",
            "Epoch 1/5\n"
          ],
          "name": "stdout"
        },
        {
          "output_type": "stream",
          "text": [
            "[Parallel(n_jobs=1)]: Using backend SequentialBackend with 1 concurrent workers.\n"
          ],
          "name": "stderr"
        },
        {
          "output_type": "stream",
          "text": [
            "750/750 [==============================] - 42s 55ms/step - loss: 0.4395 - accuracy: 0.8590\n",
            "Epoch 2/5\n",
            "750/750 [==============================] - 40s 54ms/step - loss: 0.0557 - accuracy: 0.9825\n",
            "Epoch 3/5\n",
            "750/750 [==============================] - 41s 54ms/step - loss: 0.0405 - accuracy: 0.9870\n",
            "Epoch 4/5\n",
            "750/750 [==============================] - 40s 54ms/step - loss: 0.0281 - accuracy: 0.9909\n",
            "Epoch 5/5\n",
            "750/750 [==============================] - 41s 55ms/step - loss: 0.0202 - accuracy: 0.9934\n",
            "188/188 [==============================] - 3s 16ms/step - loss: 0.0395 - accuracy: 0.9896\n",
            "Epoch 1/5\n",
            "750/750 [==============================] - 42s 54ms/step - loss: 0.4339 - accuracy: 0.8592\n",
            "Epoch 2/5\n",
            "750/750 [==============================] - 40s 54ms/step - loss: 0.0554 - accuracy: 0.9823\n",
            "Epoch 3/5\n",
            "750/750 [==============================] - 41s 55ms/step - loss: 0.0369 - accuracy: 0.9883\n",
            "Epoch 4/5\n",
            "750/750 [==============================] - 40s 54ms/step - loss: 0.0264 - accuracy: 0.9913\n",
            "Epoch 5/5\n",
            "750/750 [==============================] - 40s 53ms/step - loss: 0.0222 - accuracy: 0.9928\n",
            "188/188 [==============================] - 3s 16ms/step - loss: 0.0310 - accuracy: 0.9903\n",
            "Epoch 1/5\n",
            "750/750 [==============================] - 50s 66ms/step - loss: 0.4463 - accuracy: 0.8515\n",
            "Epoch 2/5\n",
            "750/750 [==============================] - 41s 55ms/step - loss: 0.0567 - accuracy: 0.9822\n",
            "Epoch 3/5\n",
            "750/750 [==============================] - 41s 55ms/step - loss: 0.0369 - accuracy: 0.9887\n",
            "Epoch 4/5\n",
            "750/750 [==============================] - 41s 55ms/step - loss: 0.0244 - accuracy: 0.9924\n",
            "Epoch 5/5\n",
            "750/750 [==============================] - 41s 55ms/step - loss: 0.0200 - accuracy: 0.9939\n",
            "188/188 [==============================] - 4s 18ms/step - loss: 0.0454 - accuracy: 0.9880\n",
            "Epoch 1/5\n",
            "750/750 [==============================] - 43s 55ms/step - loss: 0.4159 - accuracy: 0.8666\n",
            "Epoch 2/5\n",
            "750/750 [==============================] - 41s 55ms/step - loss: 0.0536 - accuracy: 0.9828\n",
            "Epoch 3/5\n",
            "750/750 [==============================] - 41s 55ms/step - loss: 0.0341 - accuracy: 0.9891\n",
            "Epoch 4/5\n",
            "750/750 [==============================] - 42s 56ms/step - loss: 0.0260 - accuracy: 0.9921\n",
            "Epoch 5/5\n",
            "750/750 [==============================] - 41s 55ms/step - loss: 0.0200 - accuracy: 0.9937\n",
            "188/188 [==============================] - 3s 16ms/step - loss: 0.0490 - accuracy: 0.9858\n",
            "Epoch 1/5\n",
            "750/750 [==============================] - 42s 55ms/step - loss: 0.4734 - accuracy: 0.8454\n",
            "Epoch 2/5\n",
            "750/750 [==============================] - 42s 56ms/step - loss: 0.0576 - accuracy: 0.9820\n",
            "Epoch 3/5\n",
            "750/750 [==============================] - 42s 56ms/step - loss: 0.0362 - accuracy: 0.9886\n",
            "Epoch 4/5\n",
            "750/750 [==============================] - 41s 55ms/step - loss: 0.0270 - accuracy: 0.9918\n",
            "Epoch 5/5\n",
            "750/750 [==============================] - 41s 55ms/step - loss: 0.0210 - accuracy: 0.9935\n",
            "188/188 [==============================] - 3s 16ms/step - loss: 0.0430 - accuracy: 0.9893\n",
            "Epoch 1/5\n",
            "750/750 [==============================] - 43s 57ms/step - loss: 0.4794 - accuracy: 0.8584\n",
            "Epoch 2/5\n",
            "750/750 [==============================] - 41s 55ms/step - loss: 0.0606 - accuracy: 0.9804\n",
            "Epoch 3/5\n",
            "750/750 [==============================] - 41s 55ms/step - loss: 0.0378 - accuracy: 0.9873\n",
            "Epoch 4/5\n",
            "750/750 [==============================] - 41s 55ms/step - loss: 0.0286 - accuracy: 0.9902\n",
            "Epoch 5/5\n",
            "750/750 [==============================] - 42s 55ms/step - loss: 0.0212 - accuracy: 0.9932\n",
            "188/188 [==============================] - 3s 16ms/step - loss: 0.0344 - accuracy: 0.9901\n",
            "Epoch 1/5\n",
            "750/750 [==============================] - 42s 55ms/step - loss: 0.4622 - accuracy: 0.8524\n",
            "Epoch 2/5\n",
            "750/750 [==============================] - 41s 55ms/step - loss: 0.0602 - accuracy: 0.9811\n",
            "Epoch 3/5\n",
            "750/750 [==============================] - 41s 55ms/step - loss: 0.0403 - accuracy: 0.9868\n",
            "Epoch 4/5\n",
            "750/750 [==============================] - 42s 56ms/step - loss: 0.0279 - accuracy: 0.9910\n",
            "Epoch 5/5\n",
            "750/750 [==============================] - 41s 55ms/step - loss: 0.0254 - accuracy: 0.9920\n",
            "188/188 [==============================] - 3s 16ms/step - loss: 0.0373 - accuracy: 0.9886\n",
            "Epoch 1/5\n",
            "750/750 [==============================] - 42s 55ms/step - loss: 0.4665 - accuracy: 0.8600\n",
            "Epoch 2/5\n",
            "750/750 [==============================] - 42s 56ms/step - loss: 0.0580 - accuracy: 0.9822\n",
            "Epoch 3/5\n",
            "750/750 [==============================] - 42s 56ms/step - loss: 0.0379 - accuracy: 0.9877\n",
            "Epoch 4/5\n",
            "750/750 [==============================] - 41s 55ms/step - loss: 0.0294 - accuracy: 0.9911\n",
            "Epoch 5/5\n",
            "750/750 [==============================] - 41s 55ms/step - loss: 0.0203 - accuracy: 0.9930\n",
            "188/188 [==============================] - 3s 16ms/step - loss: 0.0376 - accuracy: 0.9884\n",
            "Epoch 1/5\n",
            "750/750 [==============================] - 42s 56ms/step - loss: 0.4887 - accuracy: 0.8485\n",
            "Epoch 2/5\n",
            "750/750 [==============================] - 42s 55ms/step - loss: 0.0617 - accuracy: 0.9813\n",
            "Epoch 3/5\n",
            "750/750 [==============================] - 41s 55ms/step - loss: 0.0418 - accuracy: 0.9870\n",
            "Epoch 4/5\n",
            "750/750 [==============================] - 53s 71ms/step - loss: 0.0330 - accuracy: 0.9903\n",
            "Epoch 5/5\n",
            "750/750 [==============================] - 42s 56ms/step - loss: 0.0226 - accuracy: 0.9925\n",
            "188/188 [==============================] - 3s 17ms/step - loss: 0.0625 - accuracy: 0.9819\n",
            "Epoch 1/5\n",
            "750/750 [==============================] - 43s 55ms/step - loss: 0.4947 - accuracy: 0.8470\n",
            "Epoch 2/5\n",
            "750/750 [==============================] - 42s 55ms/step - loss: 0.0601 - accuracy: 0.9819\n",
            "Epoch 3/5\n",
            "750/750 [==============================] - 42s 56ms/step - loss: 0.0400 - accuracy: 0.9870\n",
            "Epoch 4/5\n",
            "750/750 [==============================] - 42s 56ms/step - loss: 0.0311 - accuracy: 0.9898\n",
            "Epoch 5/5\n",
            "750/750 [==============================] - 41s 55ms/step - loss: 0.0218 - accuracy: 0.9929\n",
            "188/188 [==============================] - 3s 17ms/step - loss: 0.0378 - accuracy: 0.9896\n",
            "Epoch 1/5\n",
            "375/375 [==============================] - 39s 101ms/step - loss: 0.5953 - accuracy: 0.8129\n",
            "Epoch 2/5\n",
            "375/375 [==============================] - 38s 102ms/step - loss: 0.0734 - accuracy: 0.9776\n",
            "Epoch 3/5\n",
            "375/375 [==============================] - 37s 100ms/step - loss: 0.0445 - accuracy: 0.9869\n",
            "Epoch 4/5\n",
            "375/375 [==============================] - 37s 99ms/step - loss: 0.0320 - accuracy: 0.9896\n",
            "Epoch 5/5\n",
            "375/375 [==============================] - 37s 100ms/step - loss: 0.0241 - accuracy: 0.9921\n",
            "94/94 [==============================] - 3s 31ms/step - loss: 0.0450 - accuracy: 0.9874\n",
            "Epoch 1/5\n",
            "375/375 [==============================] - 39s 101ms/step - loss: 0.5826 - accuracy: 0.8183\n",
            "Epoch 2/5\n",
            "375/375 [==============================] - 39s 103ms/step - loss: 0.0766 - accuracy: 0.9764\n",
            "Epoch 3/5\n",
            "375/375 [==============================] - 37s 100ms/step - loss: 0.0411 - accuracy: 0.9872\n",
            "Epoch 4/5\n",
            "375/375 [==============================] - 38s 100ms/step - loss: 0.0317 - accuracy: 0.9902\n",
            "Epoch 5/5\n",
            "375/375 [==============================] - 38s 101ms/step - loss: 0.0239 - accuracy: 0.9925\n",
            "94/94 [==============================] - 3s 29ms/step - loss: 0.0360 - accuracy: 0.9887\n",
            "Epoch 1/5\n",
            "375/375 [==============================] - 39s 103ms/step - loss: 0.6057 - accuracy: 0.8030\n",
            "Epoch 2/5\n",
            "375/375 [==============================] - 38s 102ms/step - loss: 0.0717 - accuracy: 0.9790\n",
            "Epoch 3/5\n",
            "375/375 [==============================] - 38s 101ms/step - loss: 0.0442 - accuracy: 0.9860\n",
            "Epoch 4/5\n",
            "375/375 [==============================] - 38s 100ms/step - loss: 0.0314 - accuracy: 0.9906\n",
            "Epoch 5/5\n",
            "375/375 [==============================] - 38s 102ms/step - loss: 0.0218 - accuracy: 0.9931\n",
            "94/94 [==============================] - 3s 31ms/step - loss: 0.0566 - accuracy: 0.9837\n",
            "Epoch 1/5\n",
            "375/375 [==============================] - 39s 101ms/step - loss: 0.5738 - accuracy: 0.8162\n",
            "Epoch 2/5\n",
            "375/375 [==============================] - 38s 100ms/step - loss: 0.0672 - accuracy: 0.9805\n",
            "Epoch 3/5\n",
            "375/375 [==============================] - 38s 102ms/step - loss: 0.0394 - accuracy: 0.9875\n",
            "Epoch 4/5\n",
            "375/375 [==============================] - 37s 100ms/step - loss: 0.0329 - accuracy: 0.9895\n",
            "Epoch 5/5\n",
            "375/375 [==============================] - 38s 100ms/step - loss: 0.0212 - accuracy: 0.9931\n",
            "94/94 [==============================] - 3s 30ms/step - loss: 0.0404 - accuracy: 0.9876\n",
            "Epoch 1/5\n",
            "375/375 [==============================] - 38s 101ms/step - loss: 0.5546 - accuracy: 0.8235\n",
            "Epoch 2/5\n",
            "375/375 [==============================] - 38s 101ms/step - loss: 0.0675 - accuracy: 0.9789\n",
            "Epoch 3/5\n",
            "375/375 [==============================] - 38s 103ms/step - loss: 0.0418 - accuracy: 0.9873\n",
            "Epoch 4/5\n",
            "375/375 [==============================] - 39s 105ms/step - loss: 0.0303 - accuracy: 0.9903\n",
            "Epoch 5/5\n",
            "375/375 [==============================] - 38s 100ms/step - loss: 0.0238 - accuracy: 0.9925\n",
            "94/94 [==============================] - 3s 30ms/step - loss: 0.0459 - accuracy: 0.9872\n",
            "Epoch 1/5\n",
            "375/375 [==============================] - 39s 102ms/step - loss: 0.6294 - accuracy: 0.8119\n",
            "Epoch 2/5\n",
            "375/375 [==============================] - 37s 100ms/step - loss: 0.0765 - accuracy: 0.9765\n",
            "Epoch 3/5\n",
            "375/375 [==============================] - 38s 100ms/step - loss: 0.0492 - accuracy: 0.9841\n",
            "Epoch 4/5\n",
            "375/375 [==============================] - 38s 100ms/step - loss: 0.0337 - accuracy: 0.9890\n",
            "Epoch 5/5\n",
            "375/375 [==============================] - 37s 100ms/step - loss: 0.0269 - accuracy: 0.9919\n",
            "94/94 [==============================] - 3s 30ms/step - loss: 0.0428 - accuracy: 0.9877\n",
            "Epoch 1/5\n",
            "375/375 [==============================] - 40s 103ms/step - loss: 0.6264 - accuracy: 0.8216\n",
            "Epoch 2/5\n",
            "375/375 [==============================] - 38s 103ms/step - loss: 0.0741 - accuracy: 0.9775\n",
            "Epoch 3/5\n",
            "375/375 [==============================] - 38s 102ms/step - loss: 0.0466 - accuracy: 0.9857\n",
            "Epoch 4/5\n",
            "375/375 [==============================] - 39s 103ms/step - loss: 0.0400 - accuracy: 0.9875\n",
            "Epoch 5/5\n",
            "375/375 [==============================] - 39s 103ms/step - loss: 0.0260 - accuracy: 0.9924\n",
            "94/94 [==============================] - 3s 30ms/step - loss: 0.0307 - accuracy: 0.9898\n",
            "Epoch 1/5\n",
            "375/375 [==============================] - 39s 101ms/step - loss: 0.6163 - accuracy: 0.8201\n",
            "Epoch 2/5\n",
            "375/375 [==============================] - 38s 100ms/step - loss: 0.0771 - accuracy: 0.9750\n",
            "Epoch 3/5\n",
            "375/375 [==============================] - 38s 100ms/step - loss: 0.0483 - accuracy: 0.9842\n",
            "Epoch 4/5\n",
            "375/375 [==============================] - 37s 100ms/step - loss: 0.0369 - accuracy: 0.9887\n",
            "Epoch 5/5\n",
            "375/375 [==============================] - 38s 101ms/step - loss: 0.0295 - accuracy: 0.9907\n",
            "94/94 [==============================] - 3s 31ms/step - loss: 0.0413 - accuracy: 0.9871\n",
            "Epoch 1/5\n",
            "375/375 [==============================] - 40s 104ms/step - loss: 0.6344 - accuracy: 0.8097\n",
            "Epoch 2/5\n",
            "375/375 [==============================] - 40s 107ms/step - loss: 0.0711 - accuracy: 0.9787\n",
            "Epoch 3/5\n",
            "375/375 [==============================] - 39s 103ms/step - loss: 0.0530 - accuracy: 0.9833\n",
            "Epoch 4/5\n",
            "375/375 [==============================] - 39s 104ms/step - loss: 0.0344 - accuracy: 0.9897\n",
            "Epoch 5/5\n",
            "375/375 [==============================] - 39s 103ms/step - loss: 0.0261 - accuracy: 0.9911\n",
            "94/94 [==============================] - 3s 29ms/step - loss: 0.0450 - accuracy: 0.9856\n",
            "Epoch 1/5\n",
            "375/375 [==============================] - 38s 101ms/step - loss: 0.6334 - accuracy: 0.8036\n",
            "Epoch 2/5\n",
            "375/375 [==============================] - 38s 101ms/step - loss: 0.0732 - accuracy: 0.9763\n",
            "Epoch 3/5\n",
            "375/375 [==============================] - 38s 101ms/step - loss: 0.0437 - accuracy: 0.9870\n",
            "Epoch 4/5\n",
            "375/375 [==============================] - 38s 103ms/step - loss: 0.0331 - accuracy: 0.9899\n",
            "Epoch 5/5\n",
            "375/375 [==============================] - 38s 101ms/step - loss: 0.0286 - accuracy: 0.9907\n",
            "94/94 [==============================] - 3s 30ms/step - loss: 0.0408 - accuracy: 0.9877\n",
            "Epoch 1/5\n",
            "750/750 [==============================] - 44s 57ms/step - loss: 1.7585 - accuracy: 0.3650\n",
            "Epoch 2/5\n",
            "750/750 [==============================] - 43s 57ms/step - loss: 0.2400 - accuracy: 0.9302\n",
            "Epoch 3/5\n",
            "750/750 [==============================] - 42s 56ms/step - loss: 0.1228 - accuracy: 0.9629\n",
            "Epoch 4/5\n",
            "750/750 [==============================] - 42s 57ms/step - loss: 0.0900 - accuracy: 0.9730\n",
            "Epoch 5/5\n",
            "750/750 [==============================] - 42s 56ms/step - loss: 0.0645 - accuracy: 0.9797\n",
            "188/188 [==============================] - 3s 17ms/step - loss: 0.0779 - accuracy: 0.9763\n",
            "Epoch 1/5\n",
            "750/750 [==============================] - 45s 59ms/step - loss: 1.7309 - accuracy: 0.3812\n",
            "Epoch 2/5\n",
            "750/750 [==============================] - 43s 58ms/step - loss: 0.2518 - accuracy: 0.9268\n",
            "Epoch 3/5\n",
            "750/750 [==============================] - 43s 57ms/step - loss: 0.1340 - accuracy: 0.9594\n",
            "Epoch 4/5\n",
            "750/750 [==============================] - 43s 57ms/step - loss: 0.0907 - accuracy: 0.9722\n",
            "Epoch 5/5\n",
            "750/750 [==============================] - 42s 56ms/step - loss: 0.0752 - accuracy: 0.9770\n",
            "188/188 [==============================] - 3s 17ms/step - loss: 0.0656 - accuracy: 0.9789\n",
            "Epoch 1/5\n",
            "750/750 [==============================] - 43s 57ms/step - loss: 1.6509 - accuracy: 0.4212\n",
            "Epoch 2/5\n",
            "750/750 [==============================] - 55s 73ms/step - loss: 0.2543 - accuracy: 0.9260\n",
            "Epoch 3/5\n",
            "750/750 [==============================] - 43s 57ms/step - loss: 0.1329 - accuracy: 0.9612\n",
            "Epoch 4/5\n",
            "750/750 [==============================] - 43s 57ms/step - loss: 0.0912 - accuracy: 0.9727\n",
            "Epoch 5/5\n",
            "750/750 [==============================] - 42s 56ms/step - loss: 0.0724 - accuracy: 0.9774\n",
            "188/188 [==============================] - 3s 17ms/step - loss: 0.0767 - accuracy: 0.9773\n",
            "Epoch 1/5\n",
            "750/750 [==============================] - 44s 57ms/step - loss: 1.6815 - accuracy: 0.4074\n",
            "Epoch 2/5\n",
            "750/750 [==============================] - 43s 57ms/step - loss: 0.2260 - accuracy: 0.9344\n",
            "Epoch 3/5\n",
            "750/750 [==============================] - 43s 57ms/step - loss: 0.1209 - accuracy: 0.9623\n",
            "Epoch 4/5\n",
            "750/750 [==============================] - 43s 57ms/step - loss: 0.0828 - accuracy: 0.9751\n",
            "Epoch 5/5\n",
            "750/750 [==============================] - 43s 57ms/step - loss: 0.0691 - accuracy: 0.9785\n",
            "188/188 [==============================] - 3s 17ms/step - loss: 0.0736 - accuracy: 0.9762\n",
            "Epoch 1/5\n",
            "750/750 [==============================] - 45s 58ms/step - loss: 1.6967 - accuracy: 0.4001\n",
            "Epoch 2/5\n",
            "750/750 [==============================] - 42s 57ms/step - loss: 0.2606 - accuracy: 0.9223\n",
            "Epoch 3/5\n",
            "750/750 [==============================] - 42s 57ms/step - loss: 0.1310 - accuracy: 0.9600\n",
            "Epoch 4/5\n",
            "750/750 [==============================] - 43s 57ms/step - loss: 0.0951 - accuracy: 0.9710\n",
            "Epoch 5/5\n",
            "750/750 [==============================] - 43s 57ms/step - loss: 0.0713 - accuracy: 0.9775\n",
            "188/188 [==============================] - 3s 17ms/step - loss: 0.0679 - accuracy: 0.9786\n",
            "Epoch 1/5\n",
            "750/750 [==============================] - 42s 55ms/step - loss: 1.7391 - accuracy: 0.3752\n",
            "Epoch 2/5\n",
            "750/750 [==============================] - 41s 55ms/step - loss: 0.2052 - accuracy: 0.9429\n",
            "Epoch 3/5\n",
            "750/750 [==============================] - 43s 57ms/step - loss: 0.1110 - accuracy: 0.9674\n",
            "Epoch 4/5\n",
            "750/750 [==============================] - 42s 56ms/step - loss: 0.0810 - accuracy: 0.9754\n",
            "Epoch 5/5\n",
            "750/750 [==============================] - 42s 56ms/step - loss: 0.0654 - accuracy: 0.9816\n",
            "188/188 [==============================] - 3s 17ms/step - loss: 0.0654 - accuracy: 0.9817\n",
            "Epoch 1/5\n",
            "750/750 [==============================] - 42s 56ms/step - loss: 1.7476 - accuracy: 0.3685\n",
            "Epoch 2/5\n",
            "750/750 [==============================] - 42s 55ms/step - loss: 0.2103 - accuracy: 0.9425\n",
            "Epoch 3/5\n",
            "750/750 [==============================] - 42s 56ms/step - loss: 0.1156 - accuracy: 0.9678\n",
            "Epoch 4/5\n",
            "750/750 [==============================] - 42s 56ms/step - loss: 0.0816 - accuracy: 0.9767\n",
            "Epoch 5/5\n",
            "750/750 [==============================] - 42s 56ms/step - loss: 0.0637 - accuracy: 0.9810\n",
            "188/188 [==============================] - 4s 18ms/step - loss: 0.0623 - accuracy: 0.9805\n",
            "Epoch 1/5\n",
            "750/750 [==============================] - 43s 56ms/step - loss: 1.7739 - accuracy: 0.3669\n",
            "Epoch 2/5\n",
            "750/750 [==============================] - 41s 55ms/step - loss: 0.2406 - accuracy: 0.9320\n",
            "Epoch 3/5\n",
            "750/750 [==============================] - 41s 55ms/step - loss: 0.1286 - accuracy: 0.9636\n",
            "Epoch 4/5\n",
            "750/750 [==============================] - 41s 55ms/step - loss: 0.0927 - accuracy: 0.9721\n",
            "Epoch 5/5\n",
            "750/750 [==============================] - 41s 55ms/step - loss: 0.0712 - accuracy: 0.9790\n",
            "188/188 [==============================] - 3s 17ms/step - loss: 0.0730 - accuracy: 0.9787\n",
            "Epoch 1/5\n",
            "750/750 [==============================] - 42s 56ms/step - loss: 1.7278 - accuracy: 0.3808\n",
            "Epoch 2/5\n",
            "750/750 [==============================] - 42s 57ms/step - loss: 0.2041 - accuracy: 0.9453\n",
            "Epoch 3/5\n",
            "750/750 [==============================] - 42s 56ms/step - loss: 0.1141 - accuracy: 0.9672\n",
            "Epoch 4/5\n",
            "750/750 [==============================] - 42s 56ms/step - loss: 0.0779 - accuracy: 0.9778\n",
            "Epoch 5/5\n",
            "750/750 [==============================] - 42s 56ms/step - loss: 0.0637 - accuracy: 0.9802\n",
            "188/188 [==============================] - 3s 17ms/step - loss: 0.0668 - accuracy: 0.9796\n",
            "Epoch 1/5\n",
            "750/750 [==============================] - 43s 56ms/step - loss: 1.7226 - accuracy: 0.3821\n",
            "Epoch 2/5\n",
            "750/750 [==============================] - 42s 56ms/step - loss: 0.2078 - accuracy: 0.9447\n",
            "Epoch 3/5\n",
            "750/750 [==============================] - 42s 57ms/step - loss: 0.1170 - accuracy: 0.9669\n",
            "Epoch 4/5\n",
            "750/750 [==============================] - 43s 57ms/step - loss: 0.0804 - accuracy: 0.9770\n",
            "Epoch 5/5\n",
            "750/750 [==============================] - 43s 57ms/step - loss: 0.0627 - accuracy: 0.9807\n",
            "188/188 [==============================] - 3s 17ms/step - loss: 0.0603 - accuracy: 0.9821\n",
            "Epoch 1/5\n",
            "375/375 [==============================] - 38s 100ms/step - loss: 2.0087 - accuracy: 0.2737\n",
            "Epoch 2/5\n",
            "375/375 [==============================] - 37s 98ms/step - loss: 0.4024 - accuracy: 0.8885\n",
            "Epoch 3/5\n",
            "375/375 [==============================] - 37s 98ms/step - loss: 0.2152 - accuracy: 0.9360\n",
            "Epoch 4/5\n",
            "375/375 [==============================] - 37s 99ms/step - loss: 0.1405 - accuracy: 0.9583\n",
            "Epoch 5/5\n",
            "375/375 [==============================] - 37s 99ms/step - loss: 0.1031 - accuracy: 0.9676\n",
            "94/94 [==============================] - 3s 30ms/step - loss: 0.0971 - accuracy: 0.9693\n",
            "Epoch 1/5\n",
            "375/375 [==============================] - 41s 105ms/step - loss: 2.0254 - accuracy: 0.2597\n",
            "Epoch 2/5\n",
            "375/375 [==============================] - 39s 105ms/step - loss: 0.4066 - accuracy: 0.8886\n",
            "Epoch 3/5\n",
            "375/375 [==============================] - 39s 104ms/step - loss: 0.2058 - accuracy: 0.9392\n",
            "Epoch 4/5\n",
            "375/375 [==============================] - 40s 106ms/step - loss: 0.1352 - accuracy: 0.9603\n",
            "Epoch 5/5\n",
            "375/375 [==============================] - 39s 105ms/step - loss: 0.1038 - accuracy: 0.9686\n",
            "94/94 [==============================] - 3s 31ms/step - loss: 0.0871 - accuracy: 0.9729\n",
            "Epoch 1/5\n",
            "375/375 [==============================] - 38s 100ms/step - loss: 1.9886 - accuracy: 0.2880\n",
            "Epoch 2/5\n",
            "375/375 [==============================] - 37s 99ms/step - loss: 0.4222 - accuracy: 0.8796\n",
            "Epoch 3/5\n",
            "375/375 [==============================] - 37s 99ms/step - loss: 0.2164 - accuracy: 0.9362\n",
            "Epoch 4/5\n",
            "375/375 [==============================] - 37s 99ms/step - loss: 0.1421 - accuracy: 0.9581\n",
            "Epoch 5/5\n",
            "375/375 [==============================] - 37s 100ms/step - loss: 0.1096 - accuracy: 0.9671\n",
            "94/94 [==============================] - 3s 31ms/step - loss: 0.1074 - accuracy: 0.9664\n",
            "Epoch 1/5\n",
            "375/375 [==============================] - 38s 99ms/step - loss: 1.9948 - accuracy: 0.2765\n",
            "Epoch 2/5\n",
            "375/375 [==============================] - 38s 100ms/step - loss: 0.3879 - accuracy: 0.8930\n",
            "Epoch 3/5\n",
            "375/375 [==============================] - 39s 105ms/step - loss: 0.1961 - accuracy: 0.9416\n",
            "Epoch 4/5\n",
            "375/375 [==============================] - 37s 99ms/step - loss: 0.1311 - accuracy: 0.9616\n",
            "Epoch 5/5\n",
            "375/375 [==============================] - 37s 99ms/step - loss: 0.0944 - accuracy: 0.9711\n",
            "94/94 [==============================] - 3s 31ms/step - loss: 0.0926 - accuracy: 0.9724\n",
            "Epoch 1/5\n",
            "375/375 [==============================] - 38s 100ms/step - loss: 2.0601 - accuracy: 0.2432\n",
            "Epoch 2/5\n",
            "375/375 [==============================] - 37s 99ms/step - loss: 0.4739 - accuracy: 0.8697\n",
            "Epoch 3/5\n",
            "375/375 [==============================] - 38s 101ms/step - loss: 0.2508 - accuracy: 0.9272\n",
            "Epoch 4/5\n",
            "375/375 [==============================] - 37s 100ms/step - loss: 0.1536 - accuracy: 0.9539\n",
            "Epoch 5/5\n",
            "375/375 [==============================] - 38s 100ms/step - loss: 0.1120 - accuracy: 0.9657\n",
            "94/94 [==============================] - 3s 31ms/step - loss: 0.0869 - accuracy: 0.9737\n",
            "Epoch 1/5\n",
            "375/375 [==============================] - 38s 100ms/step - loss: 2.1324 - accuracy: 0.2086\n",
            "Epoch 2/5\n",
            "375/375 [==============================] - 37s 98ms/step - loss: 0.3773 - accuracy: 0.9043\n",
            "Epoch 3/5\n",
            "375/375 [==============================] - 37s 97ms/step - loss: 0.1774 - accuracy: 0.9517\n",
            "Epoch 4/5\n",
            "375/375 [==============================] - 37s 98ms/step - loss: 0.1218 - accuracy: 0.9664\n",
            "Epoch 5/5\n",
            "375/375 [==============================] - 37s 98ms/step - loss: 0.0921 - accuracy: 0.9743\n",
            "94/94 [==============================] - 3s 30ms/step - loss: 0.0846 - accuracy: 0.9760\n",
            "Epoch 1/5\n",
            "375/375 [==============================] - 38s 99ms/step - loss: 2.0581 - accuracy: 0.2402\n",
            "Epoch 2/5\n",
            "375/375 [==============================] - 37s 98ms/step - loss: 0.3497 - accuracy: 0.9102\n",
            "Epoch 3/5\n",
            "375/375 [==============================] - 37s 98ms/step - loss: 0.1780 - accuracy: 0.9517\n",
            "Epoch 4/5\n",
            "375/375 [==============================] - 37s 98ms/step - loss: 0.1220 - accuracy: 0.9644\n",
            "Epoch 5/5\n",
            "375/375 [==============================] - 38s 102ms/step - loss: 0.0907 - accuracy: 0.9736\n",
            "94/94 [==============================] - 3s 30ms/step - loss: 0.0836 - accuracy: 0.9751\n",
            "Epoch 1/5\n",
            "375/375 [==============================] - 37s 98ms/step - loss: 2.0924 - accuracy: 0.2236\n",
            "Epoch 2/5\n",
            "375/375 [==============================] - 37s 97ms/step - loss: 0.3637 - accuracy: 0.9045\n",
            "Epoch 3/5\n",
            "375/375 [==============================] - 37s 98ms/step - loss: 0.1772 - accuracy: 0.9520\n",
            "Epoch 4/5\n",
            "375/375 [==============================] - 37s 98ms/step - loss: 0.1244 - accuracy: 0.9641\n",
            "Epoch 5/5\n",
            "375/375 [==============================] - 37s 98ms/step - loss: 0.0901 - accuracy: 0.9742\n",
            "94/94 [==============================] - 3s 30ms/step - loss: 0.0814 - accuracy: 0.9762\n",
            "Epoch 1/5\n",
            "375/375 [==============================] - 38s 99ms/step - loss: 2.0375 - accuracy: 0.2555\n",
            "Epoch 2/5\n",
            "375/375 [==============================] - 37s 98ms/step - loss: 0.3405 - accuracy: 0.9099\n",
            "Epoch 3/5\n",
            "375/375 [==============================] - 37s 99ms/step - loss: 0.1722 - accuracy: 0.9524\n",
            "Epoch 4/5\n",
            "375/375 [==============================] - 37s 98ms/step - loss: 0.1131 - accuracy: 0.9685\n",
            "Epoch 5/5\n",
            "375/375 [==============================] - 37s 98ms/step - loss: 0.0917 - accuracy: 0.9731\n",
            "94/94 [==============================] - 3s 30ms/step - loss: 0.0935 - accuracy: 0.9722\n",
            "Epoch 1/5\n",
            "375/375 [==============================] - 40s 103ms/step - loss: 2.0680 - accuracy: 0.2336\n",
            "Epoch 2/5\n",
            "375/375 [==============================] - 39s 103ms/step - loss: 0.3731 - accuracy: 0.9037\n",
            "Epoch 3/5\n",
            "375/375 [==============================] - 39s 104ms/step - loss: 0.1922 - accuracy: 0.9460\n",
            "Epoch 4/5\n",
            "375/375 [==============================] - 39s 103ms/step - loss: 0.1225 - accuracy: 0.9657\n",
            "Epoch 5/5\n",
            "375/375 [==============================] - 39s 104ms/step - loss: 0.0909 - accuracy: 0.9733\n",
            "94/94 [==============================] - 3s 31ms/step - loss: 0.0810 - accuracy: 0.9771\n",
            "Epoch 1/5\n"
          ],
          "name": "stdout"
        },
        {
          "output_type": "stream",
          "text": [
            "[Parallel(n_jobs=1)]: Done  40 out of  40 | elapsed: 136.0min finished\n"
          ],
          "name": "stderr"
        },
        {
          "output_type": "stream",
          "text": [
            "938/938 [==============================] - 54s 57ms/step - loss: 0.4227 - accuracy: 0.8666\n",
            "Epoch 2/5\n",
            "938/938 [==============================] - 52s 56ms/step - loss: 0.0494 - accuracy: 0.9835\n",
            "Epoch 3/5\n",
            "938/938 [==============================] - 53s 56ms/step - loss: 0.0326 - accuracy: 0.9901\n",
            "Epoch 4/5\n",
            "938/938 [==============================] - 52s 56ms/step - loss: 0.0248 - accuracy: 0.9924\n",
            "Epoch 5/5\n",
            "938/938 [==============================] - 52s 55ms/step - loss: 0.0182 - accuracy: 0.9940\n",
            "Best: 0.988617 using {'activation': 'relu', 'batch_size': 64, 'optimizer': 'RMSprop'}\n"
          ],
          "name": "stdout"
        }
      ]
    }
  ]
}